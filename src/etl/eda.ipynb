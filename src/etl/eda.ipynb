{
 "cells": [
  {
   "cell_type": "code",
   "execution_count": null,
   "id": "0557facb",
   "metadata": {
    "tags": [
     "parameters"
    ]
   },
   "outputs": [],
   "source": [
    "# declare a list tasks whose products you want to use as inputs\n",
    "upstream = None\n"
   ]
  },
  {
   "cell_type": "code",
   "execution_count": null,
   "metadata": {},
   "outputs": [],
   "source": [
    "import matplotlib.pyplot as plt\n",
    "import seaborn as sns\n",
    "import numpy as np\n",
    "import pandas as pd\n",
    "from matplotlib.ticker import FuncFormatter"
   ]
  },
  {
   "cell_type": "code",
   "execution_count": null,
   "metadata": {},
   "outputs": [],
   "source": [
    "%pip install jupysql --upgrade duckdb-engine pandas --quiet"
   ]
  },
  {
   "cell_type": "code",
   "execution_count": null,
   "metadata": {},
   "outputs": [],
   "source": [
    "%reload_ext sql"
   ]
  },
  {
   "cell_type": "code",
   "execution_count": null,
   "metadata": {},
   "outputs": [],
   "source": [
    "%sql duckdb:///../data/adidas.duckdb\n"
   ]
  },
  {
   "cell_type": "code",
   "execution_count": null,
   "metadata": {},
   "outputs": [],
   "source": [
    "%%sql\n",
    "SELECT * FROM data_sales_adidas LIMIT 5"
   ]
  },
  {
   "cell_type": "code",
   "execution_count": null,
   "metadata": {},
   "outputs": [],
   "source": [
    "result = %sql SELECT * FROM data_sales_adidas\n",
    "df = result.DataFrame()"
   ]
  },
  {
   "cell_type": "code",
   "execution_count": null,
   "metadata": {},
   "outputs": [],
   "source": [
    "\"\"\"In this notebook we explore the Adidas Sales Dataset https://www.kaggle.com/datasets/heemalichaudhari/adidas-sales-dataset/data\n",
    "doing EDA, we try to extrac the insights to create a dashboard\"\"\""
   ]
  },
  {
   "cell_type": "code",
   "execution_count": null,
   "metadata": {},
   "outputs": [],
   "source": [
    "\"\"\"In today's data-driven world, understanding consumer behavior and market dynamics has never been more critical. \n",
    "One invaluable resource for gaining these insights is an Adidas sales dataset, a repository of information \n",
    "encompassing the sales performance of Adidas products. Such datasets are treasure troves of data, offering \n",
    "detailed records of unit sales, total revenue, sales locations, product categories, and more. \n",
    "These datasets serve as the backbone for robust exploratory data analysis (EDA) and enable us to \n",
    "unravel the intriguing story of Adidas's journey in the competitive realm of sports and fashion.\n",
    "\n",
    "In this notebook, we embark on a journey to unearth the hidden insights and patterns buried within the Adidas \n",
    "sales dataset. Our mission is to leverage this rich reservoir of data to uncover sales trends, \n",
    "unveil the secrets of successful products and marketing strategies, and formulate data-driven strategies for the future. \n",
    "Beyond these, we will delve into the riveting task of comparing Adidas sales to those of its competitors and assessing \n",
    "the efficacy of diverse marketing and sales channels.\n",
    "\n",
    "The sources of Adidas sales data are as diverse as the insights they can yield. These datasets may be obtained from \n",
    "Adidas itself, market research firms, governmental agencies, or other organizations entrusted with tracking sales data. \n",
    "Each source brings its unique perspective, and the specific data points included in an \n",
    "Adidas sales dataset may vary depending on the source's focus and the intended purpose of its use. \n",
    "As we embark on this data exploration journey, we will embrace the nuances of these datasets, harnessing their \n",
    "potential to inform and guide the business decisions of one of the world's most iconic sports and fashion brands.\n",
    "\n",
    "So, join us as we navigate this Adidas sales dataset, unraveled one data point at a time, to glean insights \n",
    "and wisdom that can shape the future of the sportswear industry. Let's embark on this journey of discovery \n",
    "through data, as we dig into the heart of Adidas's sales story.\n",
    "\"\"\""
   ]
  },
  {
   "cell_type": "code",
   "execution_count": null,
   "metadata": {},
   "outputs": [],
   "source": [
    "df.head()"
   ]
  },
  {
   "cell_type": "code",
   "execution_count": null,
   "metadata": {},
   "outputs": [],
   "source": [
    "\"\"\"\n",
    "Column details:\n",
    "    \n",
    "Retailer: This column likely contains the names or identifiers of the retailers or sellers who distribute Adidas products. \n",
    "Understanding which retailers are driving sales can help pinpoint areas of success and opportunities for growth.\n",
    "\n",
    "Retailer ID: This is likely a unique identifier associated with each retailer in the dataset. It can be used for \n",
    "tracking and managing relationships with individual retailers.\n",
    "\n",
    "Invoice Date: This column holds the dates on which sales transactions took place. Analyzing this data can \n",
    "reveal seasonality and temporal patterns, providing insights into the best times for product launches or marketing campaigns.\n",
    "\n",
    "Region: This column could indicate the broader geographical area in which sales occurred. By studying regional performance\n",
    ", you can tailor marketing and sales strategies to suit specific market dynamics.\n",
    "\n",
    "State: This column provides a more granular location identifier, specifying the state in which each sale was made.\n",
    "State-level data can help you identify regional disparities and consumer preferences.\n",
    "\n",
    "City: The city where the sales took place is listed here. City-level data allows for an even finer analysis,\n",
    "helping to localize marketing efforts and distribution strategies.\n",
    "\n",
    "Product: This column describes the Adidas products sold in each transaction. Understanding which products \n",
    "are selling well or underperforming is critical for inventory management and product development.\n",
    "\n",
    "Price per Unit: The price per unit of each product sold is essential for calculating revenue. It's also \n",
    "crucial for evaluating pricing strategies and product profitability.\n",
    "\n",
    "Units Sold: This column contains the quantity of Adidas products sold in each transaction. \n",
    "It's a fundamental metric for assessing sales volume and identifying popular products.\n",
    "\n",
    "Total Sales: The total revenue generated from each transaction is calculated from the price per unit and units sold. \n",
    "This is a core metric for assessing the financial performance of the sales data.\n",
    "\n",
    "Operating Profit: Operating profit represents the financial gain or loss for Adidas from each \n",
    "transaction after factoring in the cost of goods sold and operating expenses. \n",
    "It's a key indicator of the profitability of sales.\n",
    "\n",
    "Operating Margin: This is often expressed as a percentage and represents the profitability of \n",
    "each sale relative to the total revenue. It's a measure of how efficiently Adidas is managing its expenses and costs.\n",
    "\n",
    "Sales Method: This column reveals the method or channel through which the sales were conducted. \n",
    "It could include retail stores, e-commerce, wholesale, or other distribution channels. Understanding the most effective sales methods is essential for shaping future strategies.\n",
    "\n",
    "These columns collectively hold the key to uncovering trends, patterns, and opportunities within the Adidas sales dataset. \n",
    "By conducting a thorough exploratory data analysis (EDA) on this rich dataset, you'll be equipped to make informed decisions,\n",
    "optimize operations, and drive the success of the Adidas brand in the sportswear market.\n",
    "\n",
    "\"\"\""
   ]
  },
  {
   "cell_type": "code",
   "execution_count": null,
   "metadata": {},
   "outputs": [],
   "source": [
    "# 1. Basic Dataset Info\n",
    "print(\"1. Basic Dataset Info:\")"
   ]
  },
  {
   "cell_type": "code",
   "execution_count": null,
   "metadata": {},
   "outputs": [],
   "source": [
    "# Display basic information about the dataset\n",
    "df.info()\n",
    "\n",
    "# Check for missing values\n",
    "df.isnull().sum()\n",
    "\n",
    "# Descriptive statistics\n",
    "df.describe()"
   ]
  },
  {
   "cell_type": "code",
   "execution_count": null,
   "metadata": {},
   "outputs": [],
   "source": [
    "#Get range of data dates\n",
    "\n",
    "# Get the start date (oldest date)\n",
    "start_date = df['Invoice Date'].min()\n",
    "\n",
    "# Get the last date\n",
    "last_date = df['Invoice Date'].max()\n",
    "\n",
    "print(\"Start Date:\", start_date)\n",
    "print(\"Last Date:\", last_date)"
   ]
  },
  {
   "cell_type": "code",
   "execution_count": null,
   "metadata": {},
   "outputs": [],
   "source": [
    "def get_unique_regions_by_year(df, column_name):\n",
    "    # Extract year from 'Invoice Date'\n",
    "    df['Year'] = df['Invoice Date'].dt.year\n",
    "\n",
    "    # Get unique regions for each year and sort\n",
    "    unique_regions_by_year = df.groupby('Year')[column_name].unique().reset_index()\n",
    "    unique_regions_by_year[column_name] = unique_regions_by_year[column_name].apply(sorted)\n",
    "\n",
    "    return unique_regions_by_year\n",
    "\n",
    "# Get unique regions for 'Region'\n",
    "unique_regions_by_year = get_unique_regions_by_year(df, 'Region')\n",
    "print(unique_regions_by_year)\n",
    "\n",
    "# Get unique regions for 'State'\n",
    "unique_regions_by_year = get_unique_regions_by_year(df, 'State')\n",
    "print(unique_regions_by_year)\n",
    "\n",
    "# Get unique regions for 'City'\n",
    "unique_regions_by_year = get_unique_regions_by_year(df, 'City')\n",
    "print(unique_regions_by_year)\n",
    "\n",
    "# Get unique regions for 'Product'\n",
    "unique_regions_by_year = get_unique_regions_by_year(df, 'Product')\n",
    "print(unique_regions_by_year)\n",
    "\n",
    "# Get unique regions for 'Sales Method'\n",
    "unique_regions_by_year = get_unique_regions_by_year(df, 'Sales Method')\n",
    "print(unique_regions_by_year)\n",
    "\n",
    "# Set pandas options to display more rows and columns\n",
    "pd.set_option('display.max_rows', None)\n",
    "pd.set_option('display.max_columns', None)\n",
    "pd.set_option('display.width', None)\n"
   ]
  },
  {
   "cell_type": "code",
   "execution_count": null,
   "metadata": {},
   "outputs": [],
   "source": [
    "df_u = df.copy()"
   ]
  },
  {
   "cell_type": "code",
   "execution_count": null,
   "metadata": {},
   "outputs": [],
   "source": [
    "# Convert 'Invoice Date' to datetime for easier handling\n",
    "df_u['Invoice Date'] = pd.to_datetime(df_u['Invoice Date'])\n",
    "\n",
    "# Extract year from 'Invoice Date'\n",
    "df_u['Year'] = df_u['Invoice Date'].dt.year\n",
    "\n",
    "# Define a function to count unique states and cities for a given year\n",
    "def count_unique_states_and_cities(year):\n",
    "    df_year = df_u[df_u['Year'] == year]\n",
    "    unique_states = df_year['State'].nunique()\n",
    "    unique_cities = df_year['City'].nunique()\n",
    "    return unique_states, unique_cities\n",
    "\n",
    "# Calculate and print the number of unique states and cities for 2020\n",
    "states_2020, cities_2020 = count_unique_states_and_cities(2020)\n",
    "print(f'Number of States in 2020: {states_2020}')\n",
    "print(f'Number of Cities in 2020: {cities_2020}')\n",
    "\n",
    "# Calculate and print the number of unique states and cities for 2021\n",
    "states_2021, cities_2021 = count_unique_states_and_cities(2021)\n",
    "print(f'Number of States in 2021: {states_2021}')\n",
    "print(f'Number of Cities in 2021: {cities_2021}')\n"
   ]
  },
  {
   "cell_type": "code",
   "execution_count": null,
   "metadata": {},
   "outputs": [],
   "source": [
    "\"\"\" 1. Total Sales Over Time (Time Series Plot): \n",
    "Plot the total sales over time using the \"Invoice Date\" column. \n",
    "This can show sales trends and seasonality.\n",
    "\"\"\""
   ]
  },
  {
   "cell_type": "code",
   "execution_count": null,
   "metadata": {},
   "outputs": [],
   "source": [
    "# Assuming 'Total Sales' is a continuous variable\n",
    "total_sales_sum = df['Total Sales'].sum()\n",
    "total_sales_sum_in_millions = total_sales_sum / 1e6  # Convert to millions\n",
    "\n",
    "# Bar plot for the sum of Total Sales\n",
    "plt.figure(figsize=(6, 4))\n",
    "ax = sns.barplot(x=['Total Sales'], y=[total_sales_sum_in_millions], alpha=0.5, color='cornflowerblue')\n",
    "plt.title('Total Adidas Sales Jan 2020 - Dec 2021')\n",
    "plt.ylabel(' $ Million Dollars')\n",
    "\n",
    "# Format y-axis labels\n",
    "plt.ticklabel_format(style='plain', axis='y')  # This line removes scientific notation\n",
    "\n",
    "# Add dollar sign and value as text annotation\n",
    "value_text = f'${total_sales_sum_in_millions:.2f}M'\n",
    "ax.text(0.5, 0.5, value_text, transform=ax.transAxes, ha='center', va='center', fontsize=12)\n",
    "\n",
    "plt.show()"
   ]
  },
  {
   "cell_type": "code",
   "execution_count": null,
   "metadata": {},
   "outputs": [],
   "source": [
    "# Convert 'Invoice Date' to datetime format\n",
    "df_date_index = df_u\n",
    "df_date_index['Invoice Date'] = pd.to_datetime(df_date_index['Invoice Date'])\n",
    "\n",
    "# Set 'Invoice Date' as the index\n",
    "df_date_index.set_index('Invoice Date', inplace=True)"
   ]
  },
  {
   "cell_type": "code",
   "execution_count": null,
   "metadata": {},
   "outputs": [],
   "source": [
    "# Resample data to weekly frequency and convert to millions\n",
    "monthly_sales = df_date_index['Total Sales'].resample('M').sum() / 1e6  # Convert to millions\n",
    "\n",
    "# Create a custom y-axis formatter to display values in millions\n",
    "def millions_formatter(x, pos):\n",
    "    return f'{x:.2f}M'\n",
    "\n",
    "# Plotting\n",
    "plt.figure(figsize=(12, 6))\n",
    "ax = monthly_sales.plot(color='cornflowerblue')\n",
    "ax.yaxis.set_major_formatter(FuncFormatter(millions_formatter))  # Apply the custom formatter\n",
    "plt.title('Monthly Total Sales Over Time (Millions)')\n",
    "plt.ylabel('Total Sales')\n",
    "plt.show()\n"
   ]
  },
  {
   "cell_type": "code",
   "execution_count": null,
   "metadata": {},
   "outputs": [],
   "source": [
    "# 1.1 Sales over time\n",
    "idx = np.where(df_date_index.sort_index().index == '2020-12-31')[0][-1]\n",
    "xd = df_date_index.sort_index().index\n",
    "\n",
    "#plt.figure(figsize=(12, 6))\n",
    "figure, axis = plt.subplots(2, figsize=(12,6))\n",
    "axis[0].plot(xd[:idx + 1],\n",
    "         df_date_index['Total Sales'].sort_index()[:idx + 1], label='Total sales 2020', color='cornflowerblue')\n",
    "axis[0].legend(loc=\"upper right\")\n",
    "\n",
    "axis[1].plot(xd[idx + 1:], \n",
    "         df_date_index['Total Sales'].sort_index()[idx + 1:], label='Total sales 2021', color='cornflowerblue')\n",
    "axis[1].legend(loc=\"upper right\")\n",
    "figure.suptitle('Total Sales Over Time')\n",
    "plt.xlabel('Date')\n",
    "plt.ylabel('$ USD')\n",
    "plt.show()"
   ]
  },
  {
   "cell_type": "code",
   "execution_count": null,
   "metadata": {},
   "outputs": [],
   "source": [
    "\"\"\"Date and Time Analysis:\n",
    "\n",
    "Time Series Plot of Total Sales: Plot total sales over time to reveal sales trends.\n",
    "Time Series Plot of Operating Margin: Monitor how operating margin changes over time.\n",
    "Bar Chart of Monthly Sales: Aggregate sales data by month and create a bar chart to identify monthly patterns.\n",
    "\"\"\""
   ]
  },
  {
   "cell_type": "code",
   "execution_count": null,
   "metadata": {},
   "outputs": [],
   "source": [
    "df_u = df.copy()"
   ]
  },
  {
   "cell_type": "code",
   "execution_count": null,
   "metadata": {},
   "outputs": [],
   "source": [
    "# Convert 'Invoice Date' to datetime for easier handling\n",
    "df_u['Invoice Date'] = pd.to_datetime(df_u['Invoice Date'])\n",
    "\n",
    "# Extract year from 'Invoice Date'\n",
    "df_u['Year'] = df_u['Invoice Date'].dt.year\n",
    "\n",
    "# Specify the year you want to filter by (e.g., 2020)\n",
    "target_year = 2020\n",
    "\n",
    "# Filter data for the specified year\n",
    "df_filtered = df_u[df_u['Year'] == target_year].copy()  # Use .copy() to create a copy of the DataFrame\n",
    "\n",
    "# Extract month from 'Invoice Date'\n",
    "df_filtered['Month'] = df_filtered['Invoice Date'].dt.month\n",
    "\n",
    "# Group by 'Month' and calculate total units sold\n",
    "units_by_month = df_filtered.groupby('Month')['Total Sales'].sum().reset_index()\n",
    "\n",
    "# Function to format y-axis labels in millions\n",
    "def millions_formatter(x, pos):\n",
    "    return f'{x / 1_000_000:.2f}M'\n",
    "\n",
    "# Plotting a bar chart\n",
    "plt.figure(figsize=(10, 6))\n",
    "plt.bar(units_by_month['Month'], units_by_month['Total Sales'], alpha=0.5, color='cornflowerblue')\n",
    "plt.xlabel('Month')\n",
    "plt.ylabel('Total Sales Sold')\n",
    "plt.title(f'Total Sales Sold by Month in {target_year}')\n",
    "\n",
    "# Adding total units sold on top of bars in millions\n",
    "for i, units_sold in enumerate(units_by_month['Total Sales']):\n",
    "    plt.text(i + 1, units_sold + 0.02 * max(units_by_month['Total Sales']), f'{units_sold / 1_000_000:.2f}M', ha='center', va='center', rotation=0, color='black')\n",
    "\n",
    "plt.gca().yaxis.set_major_formatter(millions_formatter)  # Use the millions formatter for y-axis labels\n",
    "plt.xticks(range(1, 13), ['Jan', 'Feb', 'Mar', 'Apr', 'May', 'Jun', 'Jul', 'Aug', 'Sep', 'Oct', 'Nov', 'Dec'])\n",
    "plt.show()"
   ]
  },
  {
   "cell_type": "code",
   "execution_count": null,
   "metadata": {},
   "outputs": [],
   "source": [
    "# Convert 'Invoice Date' to datetime for easier handling\n",
    "df_u['Invoice Date'] = pd.to_datetime(df_u['Invoice Date'])\n",
    "\n",
    "# Extract year from 'Invoice Date'\n",
    "df_u['Year'] = df_u['Invoice Date'].dt.year\n",
    "\n",
    "# Specify the year you want to filter by (e.g., 2020)\n",
    "target_year = 2020\n",
    "\n",
    "# Filter data for the specified year\n",
    "df_filtered = df[df['Year'] == target_year].copy()  # Use .copy() to create a copy of the DataFrame\n",
    "\n",
    "# Extract month from 'Invoice Date'\n",
    "df_filtered['Month'] = df_filtered['Invoice Date'].dt.month\n",
    "\n",
    "# Group by 'Month' and calculate total units sold\n",
    "units_by_month = df_filtered.groupby('Month')['Units Sold'].sum().reset_index()\n",
    "\n",
    "# Function to format y-axis labels in millions\n",
    "def millions_formatter(x, pos):\n",
    "    return f'{x / 1_000_000:.2f}M'\n",
    "\n",
    "# Plotting a bar chart\n",
    "plt.figure(figsize=(10, 6))\n",
    "plt.bar(units_by_month['Month'], units_by_month['Units Sold'], alpha=0.5, color='cornflowerblue')\n",
    "plt.xlabel('Month')\n",
    "plt.ylabel('Total Units Sold')\n",
    "plt.title(f'Total Units Sold by Month in {target_year}')\n",
    "\n",
    "# Adding total units sold on top of bars in millions\n",
    "for i, units_sold in enumerate(units_by_month['Units Sold']):\n",
    "    plt.text(i + 1, units_sold + 0.02 * max(units_by_month['Units Sold']), f'{units_sold / 1_000_000:.2f}M', ha='center', va='center', rotation=0, color='black')\n",
    "\n",
    "plt.gca().yaxis.set_major_formatter(millions_formatter)  # Use the millions formatter for y-axis labels\n",
    "plt.xticks(range(1, 13), ['Jan', 'Feb', 'Mar', 'Apr', 'May', 'Jun', 'Jul', 'Aug', 'Sep', 'Oct', 'Nov', 'Dec'])\n",
    "plt.show()"
   ]
  },
  {
   "cell_type": "code",
   "execution_count": null,
   "metadata": {},
   "outputs": [],
   "source": [
    "# Convert 'Invoice Date' to datetime for easier handling\n",
    "df_u['Invoice Date'] = pd.to_datetime(df_u['Invoice Date'])\n",
    "\n",
    "# Extract year from 'Invoice Date'\n",
    "df_u['Year'] = df_u['Invoice Date'].dt.year\n",
    "\n",
    "# Specify the year you want to filter by (e.g., 2020)\n",
    "target_year = 2021\n",
    "\n",
    "# Filter data for the specified year\n",
    "df_filtered = df_u[df_u['Year'] == target_year].copy()  # Use .copy() to create a copy of the DataFrame\n",
    "\n",
    "# Extract month from 'Invoice Date'\n",
    "df_filtered['Month'] = df_filtered['Invoice Date'].dt.month\n",
    "\n",
    "# Group by 'Month' and calculate total units sold\n",
    "units_by_month = df_filtered.groupby('Month')['Total Sales'].sum().reset_index()\n",
    "\n",
    "# Function to format y-axis labels in millions\n",
    "def millions_formatter(x, pos):\n",
    "    return f'{x / 1_000_000:.2f}M'\n",
    "\n",
    "# Plotting a bar chart\n",
    "plt.figure(figsize=(10, 6))\n",
    "plt.bar(units_by_month['Month'], units_by_month['Total Sales'], alpha=0.5, color='cornflowerblue')\n",
    "plt.xlabel('Month')\n",
    "plt.ylabel('Total Sales Sold')\n",
    "plt.title(f'Total Sales Sold by Month in {target_year}')\n",
    "\n",
    "# Adding total units sold on top of bars in millions\n",
    "for i, units_sold in enumerate(units_by_month['Total Sales']):\n",
    "    plt.text(i + 1, units_sold + 0.02 * max(units_by_month['Total Sales']), f'{units_sold / 1_000_000:.2f}M', ha='center', va='center', rotation=0, color='black')\n",
    "\n",
    "plt.gca().yaxis.set_major_formatter(millions_formatter)  # Use the millions formatter for y-axis labels\n",
    "plt.xticks(range(1, 13), ['Jan', 'Feb', 'Mar', 'Apr', 'May', 'Jun', 'Jul', 'Aug', 'Sep', 'Oct', 'Nov', 'Dec'])\n",
    "plt.show()"
   ]
  },
  {
   "cell_type": "code",
   "execution_count": null,
   "metadata": {},
   "outputs": [],
   "source": [
    "# Convert 'Invoice Date' to datetime for easier handling\n",
    "df_u['Invoice Date'] = pd.to_datetime(df_u['Invoice Date'])\n",
    "\n",
    "# Extract year from 'Invoice Date'\n",
    "df_u['Year'] = df_u['Invoice Date'].dt.year\n",
    "\n",
    "# Specify the year you want to filter by (e.g., 2020)\n",
    "target_year = 2021\n",
    "\n",
    "# Filter data for the specified year\n",
    "df_filtered = df[df['Year'] == target_year].copy()  # Use .copy() to create a copy of the DataFrame\n",
    "\n",
    "# Extract month from 'Invoice Date'\n",
    "df_filtered['Month'] = df_filtered['Invoice Date'].dt.month\n",
    "\n",
    "# Group by 'Month' and calculate total units sold\n",
    "units_by_month = df_filtered.groupby('Month')['Units Sold'].sum().reset_index()\n",
    "\n",
    "# Function to format y-axis labels in millions\n",
    "def millions_formatter(x, pos):\n",
    "    return f'{x / 1_000_000:.2f}M'\n",
    "\n",
    "# Plotting a bar chart\n",
    "plt.figure(figsize=(10, 6))\n",
    "plt.bar(units_by_month['Month'], units_by_month['Units Sold'], alpha=0.5, color='cornflowerblue')\n",
    "plt.xlabel('Month')\n",
    "plt.ylabel('Total Units Sold')\n",
    "plt.title(f'Total Units Sold by Month in {target_year}')\n",
    "\n",
    "# Adding total units sold on top of bars in millions\n",
    "for i, units_sold in enumerate(units_by_month['Units Sold']):\n",
    "    plt.text(i + 1, units_sold + 0.02 * max(units_by_month['Units Sold']), f'{units_sold / 1_000_000:.2f}M', ha='center', va='center', rotation=0, color='black')\n",
    "\n",
    "plt.gca().yaxis.set_major_formatter(millions_formatter)  # Use the millions formatter for y-axis labels\n",
    "plt.xticks(range(1, 13), ['Jan', 'Feb', 'Mar', 'Apr', 'May', 'Jun', 'Jul', 'Aug', 'Sep', 'Oct', 'Nov', 'Dec'])\n",
    "plt.show()"
   ]
  },
  {
   "cell_type": "code",
   "execution_count": null,
   "metadata": {},
   "outputs": [],
   "source": [
    " \"\"\" 2. Product Categories: \n",
    " Display the frequency of different product categories. \n",
    " This will help identify the most popular product types.\"\"\""
   ]
  },
  {
   "cell_type": "code",
   "execution_count": null,
   "metadata": {},
   "outputs": [],
   "source": [
    "# Group by product and calculate total sales\n",
    "product_sales = df.groupby('Product')['Total Sales'].sum() / 1_000_000  # Convert sales to millions\n",
    "\n",
    "# Plotting product-wise sales\n",
    "plt.figure(figsize=(12, 6))\n",
    "ax = product_sales.sort_values().plot(kind='bar', alpha=0.5, color='cornflowerblue')\n",
    "plt.title('Product Category Total Sales')\n",
    "plt.xlabel('Product')\n",
    "plt.ylabel('Total Sales (Millions)')  # Update the y-axis label\n",
    "\n",
    "# Adding counts on top of bars\n",
    "for p, count in zip(ax.patches, product_sales.sort_values()):\n",
    "    ax.annotate(f'{count:.2f}M', (p.get_x() + p.get_width() / 2., p.get_height()), ha='center', va='center', xytext=(0, 10), textcoords='offset points')\n",
    "\n",
    "plt.show()"
   ]
  },
  {
   "cell_type": "code",
   "execution_count": null,
   "metadata": {},
   "outputs": [],
   "source": [
    "# Convert 'Invoice Date' to datetime for easier handling\n",
    "df_u['Invoice Date'] = pd.to_datetime(df_u['Invoice Date'])\n",
    "\n",
    "# Extract year from 'Invoice Date'\n",
    "df_u['Year'] = df_u['Invoice Date'].dt.year\n",
    "\n",
    "# Filter data for the year 2020\n",
    "df_2020 = df_u[df_u['Year'] == 2020]\n",
    "\n",
    "# Group by 'Product' and calculate total sales\n",
    "total_sales_by_product = df_2020.groupby('Product')['Total Sales'].sum().reset_index()\n",
    "\n",
    "# Function to format y-axis labels in millions\n",
    "def millions_formatter(x, pos):\n",
    "    return f'${x / 1_000_000:.0f}M'\n",
    "\n",
    "# Plotting a bar chart\n",
    "plt.figure(figsize=(14, 8))\n",
    "plt.bar(total_sales_by_product['Product'], total_sales_by_product['Total Sales'], alpha=0.5, color='cornflowerblue')\n",
    "plt.xlabel('Product')\n",
    "plt.ylabel('Total Sales ($ Millions)')\n",
    "plt.title('Total Sales by Product in 2020')\n",
    "plt.xticks(rotation=45, ha='right')  # Rotate x-axis labels for better readability\n",
    "\n",
    "# Adding total sales on top of bars in millions\n",
    "for i, sales in enumerate(total_sales_by_product['Total Sales']):\n",
    "    plt.text(i, sales + 0.02 * max(total_sales_by_product['Total Sales']), f'{sales / 1_000_000:.2f}M', ha='center', va='center', rotation=0, color='black')\n",
    "\n",
    "plt.gca().yaxis.set_major_formatter(millions_formatter)  # Use the millions formatter for y-axis labels\n",
    "plt.show()"
   ]
  },
  {
   "cell_type": "code",
   "execution_count": null,
   "metadata": {},
   "outputs": [],
   "source": [
    "# Convert 'Invoice Date' to datetime for easier handling\n",
    "df_u['Invoice Date'] = pd.to_datetime(df_u['Invoice Date'])\n",
    "\n",
    "# Extract year from 'Invoice Date'\n",
    "df_u['Year'] = df_u['Invoice Date'].dt.year\n",
    "\n",
    "# Filter data for the year 2021\n",
    "df_2021 = df_u[df_u['Year'] == 2021]\n",
    "\n",
    "# Group by 'Product' and calculate total sales\n",
    "total_sales_by_product = df_2021.groupby('Product')['Total Sales'].sum().reset_index()\n",
    "\n",
    "# Function to format y-axis labels in millions\n",
    "def millions_formatter(x, pos):\n",
    "    return f'${x / 1_000_000:.0f}M'\n",
    "\n",
    "# Plotting a bar chart\n",
    "plt.figure(figsize=(14, 8))\n",
    "plt.bar(total_sales_by_product['Product'], total_sales_by_product['Total Sales'], alpha=0.5, color='cornflowerblue')\n",
    "plt.xlabel('Product')\n",
    "plt.ylabel('Total Sales ($ Millions)')\n",
    "plt.title('Total Sales by Product in 2021')\n",
    "plt.xticks(rotation=45, ha='right')  # Rotate x-axis labels for better readability\n",
    "\n",
    "# Adding total sales on top of bars in millions\n",
    "for i, sales in enumerate(total_sales_by_product['Total Sales']):\n",
    "    plt.text(i, sales + 0.02 * max(total_sales_by_product['Total Sales']), f'{sales / 1_000_000:.2f}M', ha='center', va='center', rotation=0, color='black')\n",
    "\n",
    "plt.gca().yaxis.set_major_formatter(millions_formatter)  # Use the millions formatter for y-axis labels\n",
    "plt.show()"
   ]
  },
  {
   "cell_type": "code",
   "execution_count": null,
   "metadata": {},
   "outputs": [],
   "source": [
    "# Assuming 'Total Units' is a continuous variable\n",
    "total_sales_sum = df['Units Sold'].sum()\n",
    "total_sales_sum_in_millions = total_sales_sum / 1e6  # Convert to millions\n",
    "\n",
    "# Bar plot for the sum of Total Sales\n",
    "plt.figure(figsize=(6, 4))\n",
    "ax = sns.barplot(x=['Total Units'], y=[total_sales_sum_in_millions], alpha=0.5, color='cornflowerblue')\n",
    "plt.title('Total Adidas Units Sold Jan 2020 - Dec 2021')\n",
    "plt.ylabel(' $ Million Units')\n",
    "\n",
    "# Format y-axis labels\n",
    "plt.ticklabel_format(style='plain', axis='y')  # This line removes scientific notation\n",
    "\n",
    "# Add dollar sign and value as text annotation\n",
    "value_text = f'{total_sales_sum_in_millions:.2f}M'\n",
    "ax.text(0.5, 0.5, value_text, transform=ax.transAxes, ha='center', va='center', fontsize=12)\n",
    "\n",
    "plt.show()"
   ]
  },
  {
   "cell_type": "code",
   "execution_count": null,
   "metadata": {},
   "outputs": [],
   "source": [
    "# Group by product and calculate total sales\n",
    "product_sales = df_u.groupby('Product')['Units Sold'].sum()\n",
    "\n",
    "# Plotting product-wise sales\n",
    "plt.figure(figsize=(12, 6))\n",
    "product_sales.sort_values().plot(kind='bar', alpha=0.5, color='cornflowerblue')\n",
    "plt.title('Total Product Units Sold')\n",
    "plt.xlabel('Product')\n",
    "plt.ylabel('Units Sold')\n",
    "\n",
    "# Function to format y-axis labels in millions\n",
    "def millions_formatter(x, pos):\n",
    "    return f'{x / 1_000_000:.2f}M'\n",
    "\n",
    "# Adding units sold on top of bars in millions\n",
    "for i, units_sold in enumerate(product_sales.sort_values()):\n",
    "    plt.text(i, units_sold + 0.02 * max(product_sales), f'{units_sold / 1_000_000:.2f}M', ha='center', va='center', rotation=0)\n",
    "\n",
    "plt.gca().yaxis.set_major_formatter(millions_formatter)  # Use the millions formatter for y-axis labels\n",
    "\n",
    "plt.show()"
   ]
  },
  {
   "cell_type": "code",
   "execution_count": null,
   "metadata": {},
   "outputs": [],
   "source": [
    "\"\"\"Retailers: \n",
    "    Visualize the performance of different retailers using a bar chart. \n",
    "    This can highlight which retailers contribute the most to your sales.\n",
    "\"\"\""
   ]
  },
  {
   "cell_type": "code",
   "execution_count": null,
   "metadata": {},
   "outputs": [],
   "source": [
    "plt.figure(figsize=(12, 6))\n",
    "# Set the style to 'whitegrid'\n",
    "sns.set_style('whitegrid')\n",
    "ax1 = sns.countplot(x='Retailer', data=df, alpha=0.5, color='cornflowerblue')\n",
    "# Enable gridlines using Matplotlib\n",
    "plt.title('Distribution of Retailers')\n",
    "plt.ylabel('Number of Adidas retailers')\n",
    "\n",
    "# Adding counts on top of bars as integers\n",
    "for p in ax1.patches:\n",
    "    ax1.annotate(f'{int(p.get_height())}', (p.get_x() + p.get_width() / 2., p.get_height()), ha='center', va='center', xytext=(0, 7), textcoords='offset points')\n",
    "\n",
    "plt.show()\n",
    "\n"
   ]
  },
  {
   "cell_type": "code",
   "execution_count": null,
   "metadata": {},
   "outputs": [],
   "source": [
    "# Barplot for Average Total Sales by Retailer\n",
    "plt.figure(figsize=(12, 6))\n",
    "ax1 = sns.barplot(x='Retailer', y='Total Sales', data=df_u, errorbar=None, alpha=0.5, color='cornflowerblue')\n",
    "plt.title('Average Total Sales by Retailer')\n",
    "plt.ylabel('$ Millions')\n",
    "\n",
    "# Adding total sales on top of bars\n",
    "for p, sales in zip(ax1.patches, df_u['Total Sales']):\n",
    "    ax1.annotate(f'{sales:,.0f}', (p.get_x() + p.get_width() / 2., p.get_height()), ha='center', va='center', xytext=(0, 8), textcoords='offset points')\n",
    "\n",
    "plt.show()\n",
    "\n"
   ]
  },
  {
   "cell_type": "code",
   "execution_count": null,
   "metadata": {},
   "outputs": [],
   "source": [
    "\"\"\"Sales method: \n",
    "    Visualize the performance of different retailers using a bar chart. \n",
    "    This can highlight which retailers contribute the most to your sales.\n",
    "\"\"\""
   ]
  },
  {
   "cell_type": "code",
   "execution_count": null,
   "metadata": {},
   "outputs": [],
   "source": [
    "# Countplot for Sales Method\n",
    "plt.figure(figsize=(8, 4))\n",
    "ax2 = sns.countplot(x='Sales Method', data=df, alpha=0.5, color='cornflowerblue') #color='cornflowerblue' color='lightcoral'\n",
    "plt.title('Distribution of Adidas Sales Methods')\n",
    "plt.ylabel('Number of retailers with the sales methods')\n",
    "\n",
    "# Adding counts on top of bars as integers\n",
    "for p in ax2.patches:\n",
    "    ax2.annotate(f'{int(p.get_height())}', (p.get_x() + p.get_width() / 2., p.get_height()), ha='center', va='center', xytext=(0, 6), textcoords='offset points')\n",
    "\n",
    "plt.show()"
   ]
  },
  {
   "cell_type": "code",
   "execution_count": null,
   "metadata": {},
   "outputs": [],
   "source": [
    "# Boxplot for Total Sales by Sales Method\n",
    "plt.figure(figsize=(10, 6))\n",
    "ax2 = sns.barplot(x='Sales Method', y='Total Sales', data=df_u, errorbar=None, alpha=0.5, color='cornflowerblue')\n",
    "plt.title('Total Sales by Sales Method')\n",
    "plt.ylabel('$ Millions')\n",
    "\n",
    "# Adding total sales on top of bars\n",
    "for p, sales in zip(ax2.patches, df_u['Total Sales']):\n",
    "    ax2.annotate(f'{sales:,.0f}', (p.get_x() + p.get_width() / 2., p.get_height()), ha='center', va='center', xytext=(0, 8), textcoords='offset points')\n",
    "\n",
    "plt.show()"
   ]
  },
  {
   "cell_type": "code",
   "execution_count": null,
   "metadata": {},
   "outputs": [],
   "source": [
    "\"\"\"Geographical Analysis:\n",
    "\n",
    "Geospatial Heatmap of Sales by Region/State/City: Create a heatmap to visualize sales concentration geographically.\n",
    "Bar Chart of Sales by State or Region: Compare sales performance across different states or regions.\n",
    "\"\"\""
   ]
  },
  {
   "cell_type": "code",
   "execution_count": null,
   "metadata": {},
   "outputs": [],
   "source": [
    "# Convert 'Invoice Date' to datetime for easier handling\n",
    "df_u['Invoice Date'] = pd.to_datetime(df_u['Invoice Date'])\n",
    "\n",
    "# Extract year from 'Invoice Date'\n",
    "df_u['Year'] = df_u['Invoice Date'].dt.year\n",
    "\n",
    "# Filter data for the year 2020\n",
    "df_2020 = df_u[df_u['Year'] == 2020]\n",
    "\n",
    "# Group by 'State' and calculate total sales\n",
    "total_sales_by_state = df_2020.groupby('State')['Total Sales'].sum().reset_index()\n",
    "\n",
    "# Function to format y-axis labels in millions\n",
    "def millions_formatter(x, pos):\n",
    "    return f'${x / 1_000_000:.0f}M'\n",
    "\n",
    "# Create a bar chart\n",
    "plt.figure(figsize=(12, 6))\n",
    "plt.bar(total_sales_by_state['State'], total_sales_by_state['Total Sales'], alpha=0.5, color='cornflowerblue')\n",
    "plt.xlabel('State')\n",
    "plt.ylabel('Total Sales ($ Millions)')\n",
    "plt.title('Total Sales by State in 2020')\n",
    "\n",
    "# Adding total sales on top of bars in millions\n",
    "for i, sales in enumerate(total_sales_by_state['Total Sales']):\n",
    "    plt.text(i, sales + 0.02 * max(total_sales_by_state['Total Sales']), f'{sales / 1_000_000:.2f}M', ha='center', va='center', rotation=0, color='black')\n",
    "\n",
    "plt.gca().yaxis.set_major_formatter(millions_formatter)  # Use the millions formatter for y-axis labels\n",
    "plt.show()"
   ]
  },
  {
   "cell_type": "code",
   "execution_count": null,
   "metadata": {},
   "outputs": [],
   "source": [
    "# Convert 'Invoice Date' to datetime for easier handling\n",
    "df_u['Invoice Date'] = pd.to_datetime(df_u['Invoice Date'])\n",
    "\n",
    "# Extract year from 'Invoice Date'\n",
    "df_u['Year'] = df_u['Invoice Date'].dt.year\n",
    "\n",
    "# Filter data for the year 2020\n",
    "df_2020 = df_u[df_u['Year'] == 2020]\n",
    "\n",
    "# Group by 'State' and calculate total sales\n",
    "total_sales_by_state = df_2020.groupby('State')['Total Sales'].sum().reset_index()\n",
    "\n",
    "# Get the top 10 states with the highest total sales\n",
    "top_10_states = total_sales_by_state.nlargest(10, 'Total Sales')\n",
    "\n",
    "# Function to format y-axis labels in millions\n",
    "def millions_formatter(x, pos):\n",
    "    return f'${x / 1_000_000:.0f}M'\n",
    "\n",
    "# Create a bar chart for the top 10 states\n",
    "plt.figure(figsize=(12, 6))\n",
    "plt.bar(top_10_states['State'], top_10_states['Total Sales'], alpha=0.5, color='cornflowerblue')\n",
    "plt.xlabel('State')\n",
    "plt.ylabel('Total Sales ($ Millions)')\n",
    "plt.title('Top 10 States with Highest Total Sales in 2020')\n",
    "\n",
    "# Adding total sales on top of bars in millions\n",
    "for i, sales in enumerate(top_10_states['Total Sales']):\n",
    "    plt.text(i, sales + 0.02 * max(top_10_states['Total Sales']), f'{sales / 1_000_000:.2f}M', ha='center', va='center', rotation=0, color='black')\n",
    "\n",
    "plt.gca().yaxis.set_major_formatter(millions_formatter)  # Use the millions formatter for y-axis labels\n",
    "plt.show()"
   ]
  },
  {
   "cell_type": "code",
   "execution_count": null,
   "metadata": {},
   "outputs": [],
   "source": [
    "# Convert 'Invoice Date' to datetime for easier handling\n",
    "df['Invoice Date'] = pd.to_datetime(df['Invoice Date'])\n",
    "\n",
    "# Extract year from 'Invoice Date'\n",
    "df['Year'] = df['Invoice Date'].dt.year\n",
    "\n",
    "# Filter data for the year 2020\n",
    "df_2020 = df[df['Year'] == 2020]\n",
    "\n",
    "# Group by 'State' and calculate total sales\n",
    "total_sales_by_state = df_2020.groupby('State')['Total Sales'].sum().reset_index()\n",
    "\n",
    "# Get the top 10 states with the highest total sales\n",
    "top_10_states = total_sales_by_state.nsmallest(10, 'Total Sales')\n",
    "\n",
    "# Function to format y-axis labels in millions\n",
    "def millions_formatter(x, pos):\n",
    "    return f'${x / 1_000_000:.0f}M'\n",
    "\n",
    "# Plotting a bar chart for the top 10 states\n",
    "plt.figure(figsize=(12, 6))\n",
    "plt.bar(top_10_states['State'], top_10_states['Total Sales'], alpha=0.5, color='lightcoral')\n",
    "plt.xlabel('State')\n",
    "plt.ylabel('Total Sales ($ Millions)')\n",
    "plt.title('Top 10 States with lowest Total Sales in 2020')\n",
    "\n",
    "# Adding total sales on top of bars in millions\n",
    "for i, sales in enumerate(top_10_states['Total Sales']):\n",
    "    plt.text(i, sales + 0.02 * max(top_10_states['Total Sales']), f'{sales / 1_000_000:.2f}M', ha='center', va='center', rotation=0, color='black')\n",
    "\n",
    "plt.gca().yaxis.set_major_formatter(millions_formatter)  # Use the millions formatter for y-axis labels\n",
    "plt.show()"
   ]
  },
  {
   "cell_type": "code",
   "execution_count": null,
   "metadata": {},
   "outputs": [],
   "source": [
    "# Convert 'Invoice Date' to datetime for easier handling\n",
    "df_u['Invoice Date'] = pd.to_datetime(df_u['Invoice Date'])\n",
    "\n",
    "# Extract year from 'Invoice Date'\n",
    "df_u['Year'] = df_u['Invoice Date'].dt.year\n",
    "\n",
    "# Filter data for the year 2022\n",
    "df_2020 = df_u[df_u['Year'] == 2020]\n",
    "\n",
    "# Group by 'State' and calculate total sales\n",
    "total_sales_by_state = df_2020.groupby('City')['Total Sales'].sum().reset_index()\n",
    "\n",
    "# Get the top 10 states with the highest total sales\n",
    "top_10_states = total_sales_by_state.nlargest(10, 'Total Sales')\n",
    "\n",
    "# Function to format y-axis labels in millions\n",
    "def millions_formatter(x, pos):\n",
    "    return f'${x / 1_000_000:.0f}M'\n",
    "\n",
    "# Plotting a bar chart for the top 10 states\n",
    "plt.figure(figsize=(12, 6))\n",
    "plt.bar(top_10_states['City'], top_10_states['Total Sales'], alpha=0.5, color='cornflowerblue')\n",
    "plt.xlabel('City')\n",
    "plt.ylabel('Total Sales ($ Millions)')\n",
    "plt.title('Top 10 Cities with Highest Total Sales in 2020')\n",
    "\n",
    "# Adding total sales on top of bars in millions\n",
    "for i, sales in enumerate(top_10_states['Total Sales']):\n",
    "    plt.text(i, sales + 0.02 * max(top_10_states['Total Sales']), f'{sales / 1_000_000:.2f}M', ha='center', va='center', rotation=0, color='black')\n",
    "\n",
    "plt.gca().yaxis.set_major_formatter(millions_formatter)  # Use the millions formatter for y-axis labels\n",
    "plt.show()"
   ]
  },
  {
   "cell_type": "code",
   "execution_count": null,
   "metadata": {},
   "outputs": [],
   "source": [
    "# Convert 'Invoice Date' to datetime for easier handling\n",
    "df_u['Invoice Date'] = pd.to_datetime(df_u['Invoice Date'])\n",
    "\n",
    "# Extract year from 'Invoice Date'\n",
    "df_u['Year'] = df_u['Invoice Date'].dt.year\n",
    "\n",
    "# Filter data for the year 2022\n",
    "df_2020 = df_u[df_u['Year'] == 2020]\n",
    "\n",
    "# Group by 'State' and calculate total sales\n",
    "total_sales_by_state = df_2020.groupby('City')['Total Sales'].sum().reset_index()\n",
    "\n",
    "# Get the top 10 states with the highest total sales\n",
    "top_10_states = total_sales_by_state.nsmallest(10, 'Total Sales')\n",
    "\n",
    "# Function to format y-axis labels in millions\n",
    "def millions_formatter(x, pos):\n",
    "    return f'${x / 1_000_000:.0f}M'\n",
    "\n",
    "# Plotting a bar chart for the top 10 states\n",
    "plt.figure(figsize=(12, 6))\n",
    "plt.bar(top_10_states['City'], top_10_states['Total Sales'], alpha=0.5, color='lightcoral')\n",
    "plt.xlabel('City')\n",
    "plt.ylabel('Total Sales ($ Millions)')\n",
    "plt.title('Top 10 Cities with Lowest Total Sales in 2020')\n",
    "\n",
    "# Adding total sales on top of bars in millions\n",
    "for i, sales in enumerate(top_10_states['Total Sales']):\n",
    "    plt.text(i, sales + 0.02 * max(top_10_states['Total Sales']), f'{sales / 1_000_000:.2f}M', ha='center', va='center', rotation=0, color='black')\n",
    "\n",
    "plt.gca().yaxis.set_major_formatter(millions_formatter)  # Use the millions formatter for y-axis labels\n",
    "plt.show()"
   ]
  },
  {
   "cell_type": "code",
   "execution_count": null,
   "metadata": {},
   "outputs": [],
   "source": [
    "# Convert 'Invoice Date' to datetime for easier handling\n",
    "df_u['Invoice Date'] = pd.to_datetime(df_u['Invoice Date'])\n",
    "\n",
    "# Extract year from 'Invoice Date'\n",
    "df_u['Year'] = df_u['Invoice Date'].dt.year\n",
    "\n",
    "# Filter data for the year 2021\n",
    "df_2021 = df_u[df_u['Year'] == 2021]\n",
    "\n",
    "# Group by 'State' and calculate total sales\n",
    "total_sales_by_state = df_2021.groupby('State')['Total Sales'].sum().reset_index()\n",
    "\n",
    "# Get the top 10 states with the highest total sales\n",
    "top_10_states = total_sales_by_state.nlargest(10, 'Total Sales')\n",
    "# Convert 'Invoice Date' to datetime for easier handling\n",
    "df_u['Invoice Date'] = pd.to_datetime(df_u['Invoice Date'])\n",
    "\n",
    "# Extract year from 'Invoice Date'\n",
    "df_u['Year'] = df_u['Invoice Date'].dt.year\n",
    "\n",
    "# Filter data for the year 2020\n",
    "df_2020 = df_u[df_u['Year'] == 2021]\n",
    "\n",
    "# Sort the states by total sales in descending order\n",
    "total_sales_by_state = total_sales_by_state.sort_values(by='Total Sales', ascending=False)\n",
    "\n",
    "# Create a horizontal bar chart\n",
    "plt.figure(figsize=(16, 12))\n",
    "plt.barh(total_sales_by_state['State'], total_sales_by_state['Total Sales'], alpha=0.5, color='cornflowerblue')\n",
    "plt.xlabel('Total Sales ($ Millions)')\n",
    "plt.ylabel('State')\n",
    "plt.title('Total Sales by State in 2021')\n",
    "\n",
    "# Adding total sales on the right of the bars in millions\n",
    "for i, sales in enumerate(total_sales_by_state['Total Sales']):\n",
    "    plt.text(sales + 0.02 * max(total_sales_by_state['Total Sales']), i, f'{sales / 1_000_000:.2f}M', va='center', color='black')\n",
    "\n",
    "plt.gca().xaxis.set_major_formatter(millions_formatter)  # Use the millions formatter for x-axis labels\n",
    "plt.grid(axis='x', linestyle='--', alpha=0.6, color='gray')  # Add a grid for reference\n",
    "plt.show()\n"
   ]
  },
  {
   "cell_type": "code",
   "execution_count": null,
   "metadata": {},
   "outputs": [],
   "source": [
    "# Convert 'Invoice Date' to datetime for easier handling\n",
    "df_u['Invoice Date'] = pd.to_datetime(df_u['Invoice Date'])\n",
    "\n",
    "# Extract year from 'Invoice Date'\n",
    "df_u['Year'] = df_u['Invoice Date'].dt.year\n",
    "\n",
    "# Filter data for the year 2021\n",
    "df_2021 = df_u[df_u['Year'] == 2021]\n",
    "\n",
    "# Group by 'State' and calculate total sales\n",
    "total_sales_by_state = df_2021.groupby('State')['Total Sales'].sum().reset_index()\n",
    "\n",
    "# Get the top 10 states with the highest total sales\n",
    "top_10_states = total_sales_by_state.nlargest(10, 'Total Sales')\n",
    "\n",
    "# Function to format y-axis labels in millions\n",
    "def millions_formatter(x, pos):\n",
    "    return f'${x / 1_000_000:.0f}M'\n",
    "\n",
    "# Create a bar chart for the top 10 states\n",
    "plt.figure(figsize=(12, 6))\n",
    "plt.bar(top_10_states['State'], top_10_states['Total Sales'], alpha=0.5, color='cornflowerblue')\n",
    "plt.xlabel('State')\n",
    "plt.ylabel('Total Sales ($ Millions)')\n",
    "plt.title('Top 10 States with Highest Total Sales in 2021')\n",
    "\n",
    "# Adding total sales on top of bars in millions\n",
    "for i, sales in enumerate(top_10_states['Total Sales']):\n",
    "    plt.text(i, sales + 0.02 * max(top_10_states['Total Sales']), f'{sales / 1_000_000:.2f}M', ha='center', va='center', rotation=0, color='black')\n",
    "\n",
    "plt.gca().yaxis.set_major_formatter(millions_formatter)  # Use the millions formatter for y-axis labels\n",
    "plt.show()"
   ]
  },
  {
   "cell_type": "code",
   "execution_count": null,
   "metadata": {},
   "outputs": [],
   "source": [
    "# Convert 'Invoice Date' to datetime for easier handling\n",
    "df_u['Invoice Date'] = pd.to_datetime(df_u['Invoice Date'])\n",
    "\n",
    "# Extract year from 'Invoice Date'\n",
    "df_u['Year'] = df_u['Invoice Date'].dt.year\n",
    "\n",
    "# Filter data for the year 2021\n",
    "df_2021 = df_u[df_u['Year'] == 2021]\n",
    "\n",
    "# Group by 'State' and calculate total sales\n",
    "total_sales_by_state = df_2021.groupby('State')['Total Sales'].sum().reset_index()\n",
    "\n",
    "# Get the top 10 states with the highest total sales\n",
    "top_10_states = total_sales_by_state.nsmallest(10, 'Total Sales')\n",
    "\n",
    "# Function to format y-axis labels in millions\n",
    "def millions_formatter(x, pos):\n",
    "    return f'${x / 1_000_000:.0f}M'\n",
    "\n",
    "# Create a bar chart for the top 10 states\n",
    "plt.figure(figsize=(12, 6))\n",
    "plt.bar(top_10_states['State'], top_10_states['Total Sales'], alpha=0.5, color='lightcoral')\n",
    "plt.xlabel('State')\n",
    "plt.ylabel('Total Sales ($ Millions)')\n",
    "plt.title('Top 10 States with Lowest Total Sales in 2021')\n",
    "\n",
    "# Adding total sales on top of bars in millions\n",
    "for i, sales in enumerate(top_10_states['Total Sales']):\n",
    "    plt.text(i, sales + 0.02 * max(top_10_states['Total Sales']), f'{sales / 1_000_000:.2f}M', ha='center', va='center', rotation=0, color='black')\n",
    "\n",
    "plt.gca().yaxis.set_major_formatter(millions_formatter)  # Use the millions formatter for y-axis labels\n",
    "plt.show()"
   ]
  },
  {
   "cell_type": "code",
   "execution_count": null,
   "metadata": {},
   "outputs": [],
   "source": [
    "# Group by region and calculate total sales\n",
    "regional_sales = df_u.groupby('Region')['Total Sales'].sum()\n",
    "\n",
    "# Plotting regional sales\n",
    "plt.figure(figsize=(10, 6))\n",
    "regional_sales.sort_values().plot(kind='bar', alpha=0.5, color='cornflowerblue')\n",
    "plt.title('Regional Sales Distribution')\n",
    "plt.xlabel('Region')\n",
    "plt.ylabel('Total Sales')\n",
    "\n",
    "# Function to format y-axis labels in millions\n",
    "def millions_formatter(x, pos):\n",
    "    return f'${x / 1_000_000:.2f}M'\n",
    "\n",
    "# Adding total sales on top of bars in millions\n",
    "for i, sales in enumerate(regional_sales.sort_values()):\n",
    "    plt.text(i, sales + 0.02 * max(regional_sales), f'{sales / 1_000_000:.2f}M', ha='center', va='center', rotation=0, color='black')\n",
    "\n",
    "plt.gca().yaxis.set_major_formatter(millions_formatter)  # Use the millions formatter for y-axis labels\n",
    "\n",
    "plt.show()\n"
   ]
  },
  {
   "cell_type": "code",
   "execution_count": null,
   "metadata": {},
   "outputs": [],
   "source": [
    "#kpis"
   ]
  },
  {
   "cell_type": "code",
   "execution_count": null,
   "metadata": {},
   "outputs": [],
   "source": [
    "# Convert 'Invoice Date' to datetime format\n",
    "df_date_index = df_u\n",
    "df_date_index['Invoice Date'] = pd.to_datetime(df_date_index['Invoice Date'])\n",
    "\n",
    "# Set 'Invoice Date' as the index\n",
    "df_date_index.set_index('Invoice Date', inplace=True)"
   ]
  },
  {
   "cell_type": "code",
   "execution_count": null,
   "metadata": {},
   "outputs": [],
   "source": [
    "# Sales Growth Over Time"
   ]
  },
  {
   "cell_type": "code",
   "execution_count": null,
   "metadata": {},
   "outputs": [],
   "source": [
    "# KPI 1: Profit Margin\n",
    "df_u['Profit Margin'] = (df_u['Operating Profit'] / df_u['Total Sales']) * 100\n",
    "\n",
    "# KPI 2: Sales Growth\n",
    "df_u['Sales Growth'] = df_u['Total Sales'].pct_change() * 100\n",
    "\n",
    "# Visualize KPIs as needed (some are not visualized due to their nature)\n",
    "# Example: Sales Growth over time\n",
    "idx = np.where(df_u.sort_index().index == '2020-12-31')[0][-1]\n",
    "xd = df_u.sort_index().index\n",
    "\n",
    "figure, axis = plt.subplots(2, figsize=(12,6))\n",
    "axis[0].plot(xd[:idx + 1],\n",
    "         df_u['Sales Growth'].sort_index()[:idx + 1], label='Sales Growth before (%)', color='cornflowerblue')\n",
    "axis[0].legend(loc=\"upper right\")\n",
    "\n",
    "axis[1].plot(xd[idx + 1:], \n",
    "         df_u['Sales Growth'].sort_index()[idx + 1:], label='Sales Growth after (%)', color='cornflowerblue')\n",
    "axis[1].legend(loc=\"upper right\")\n",
    "figure.suptitle('Sales Growth Over Time')\n",
    "plt.xlabel('Date')\n",
    "plt.ylabel('Percentage')\n",
    "plt.show()"
   ]
  },
  {
   "cell_type": "code",
   "execution_count": null,
   "metadata": {},
   "outputs": [],
   "source": [
    "#Total units Sold Over Time"
   ]
  },
  {
   "cell_type": "code",
   "execution_count": null,
   "metadata": {},
   "outputs": [],
   "source": [
    "# Example: Sales Growth over time\n",
    "idx = np.where(df_u.sort_index().index == '2020-12-31')[0][-1]\n",
    "xd = df_u.sort_index().index\n",
    "print(len(xd[:idx + 1]), len(xd[idx + 1:]))\n",
    "\n",
    "#plt.figure(figsize=(12, 6))\n",
    "figure, axis = plt.subplots(2, figsize=(12,6))\n",
    "axis[0].plot(xd[:idx + 1],\n",
    "         df_u['Units Sold'].sort_index()[:idx + 1], label='Total sales 2020', color='cornflowerblue')\n",
    "axis[0].legend(loc=\"upper right\")\n",
    "\n",
    "axis[1].plot(xd[idx + 1:], \n",
    "         df_u['Units Sold'].sort_index()[idx + 1:], label='Total sales 2021', color='cornflowerblue')\n",
    "axis[1].legend(loc=\"upper right\")\n",
    "figure.suptitle('Total Units Sold Over Time')\n",
    "plt.xlabel('Date')\n",
    "plt.ylabel('Units')\n",
    "plt.show()"
   ]
  },
  {
   "cell_type": "code",
   "execution_count": null,
   "metadata": {},
   "outputs": [],
   "source": [
    "#Operating Profit Over Time (Time Series Plot): Plot the operating profit over time to track profitability trends."
   ]
  },
  {
   "cell_type": "code",
   "execution_count": null,
   "metadata": {},
   "outputs": [],
   "source": [
    "# Example: Sales Growth over time\n",
    "idx = np.where(df_u.sort_index().index == '2020-12-31')[0][-1]\n",
    "xd = df_u.sort_index().index\n",
    "print(len(xd[:idx + 1]), len(xd[idx + 1:]))\n",
    "\n",
    "#plt.figure(figsize=(12, 6))\n",
    "figure, axis = plt.subplots(2, figsize=(12,6))\n",
    "axis[0].plot(xd[:idx + 1],\n",
    "         df_u['Profit Margin'].sort_index()[:idx + 1], label='Total sales 2020', color='cornflowerblue')\n",
    "axis[0].legend(loc=\"upper right\")\n",
    "\n",
    "axis[1].plot(xd[idx + 1:], \n",
    "         df_u['Profit Margin'].sort_index()[idx + 1:], label='Total sales 2021', color='cornflowerblue')\n",
    "axis[1].legend(loc=\"upper right\")\n",
    "figure.suptitle('Profit Margin Over Time (%)')\n",
    "plt.xlabel('Date')\n",
    "plt.ylabel('Profit Margin (%)')\n",
    "plt.show()"
   ]
  },
  {
   "cell_type": "code",
   "execution_count": null,
   "metadata": {},
   "outputs": [],
   "source": [
    "\"\"\"\n",
    "Exploratory Data Analysis of Customer Shopping Preferences Dataset\n",
    "\n",
    "Unveiling Consumer Insights for Informed Decision-Making\n",
    "\n",
    "Context\n",
    "\n",
    "In the ever-evolving landscape of business, understanding and responding to consumer preferences is paramount. \n",
    "The Customer Shopping Preferences Dataset presents an invaluable window into the world of consumer behavior \n",
    "and buying habits. In this era of data-driven decision-making, the ability to discern trends and customer \n",
    "preferences is not just a competitive advantage but a necessity.\n",
    "\"\"\""
   ]
  },
  {
   "cell_type": "code",
   "execution_count": null,
   "metadata": {},
   "outputs": [],
   "source": [
    "\"\"\"\n",
    "The Adidas Sales Dataset offers a unique opportunity to delve into the world of consumer behavior, \n",
    "preferences, and purchasing patterns. Extracting, dissecting, and understanding this data is \n",
    "not merely an exercise; it's a strategic imperative for businesses seeking to thrive in the dynamic world of retail.\n",
    "\n",
    "Why Extract This Data from Sales?\n",
    "\n",
    "This dataset is a virtual gateway to understanding what drives customer choices and influences their loyalty. \n",
    "By extracting and analyzing this data, we embark on a journey to uncover the inner workings of Adidas sales. \n",
    "Here's why it matters:\n",
    "\n",
    "Customer-Centric Strategies: Every transaction in this dataset represents a customer's choice. \n",
    "By understanding these choices, we can tailor strategies to meet customer expectations, \n",
    "from product design to marketing efforts.\n",
    "\n",
    "Product Insights: Which Adidas products are customer favorites? By scrutinizing item sales, \n",
    "we can identify best-sellers, uncover trends, and optimize product offerings.\n",
    "\n",
    "Regional Dynamics: The \"Location\" column reveals geographical preferences. \n",
    "This information can guide inventory management, marketing localization, and expansion strategies.\n",
    "\n",
    "Customer Satisfaction: \"Review Rating\" data tells us about customer satisfaction levels. \n",
    "A deeper understanding can lead to improvements in product quality and service.\n",
    "\n",
    "Promotion and Discount Optimization: Analyzing \"Discount Applied\" and \"Promo Code Used\" \n",
    "can reveal how incentives influence purchasing decisions, helping fine-tune promotional strategies.\n",
    "\n",
    "Customer Loyalty: \"Previous Purchases\" data helps identify repeat customers, providing \n",
    "the foundation for loyalty programs and personalized offerings.\n",
    "\n",
    "Payment Preferences: Discovering \"Preferred Payment Method\" can optimize payment \n",
    "processing, ensuring seamless and secure transactions.\n",
    "\n",
    "Seasonal Trends: The \"Season\" column unveils the ebb and flow of demand across seasons, \n",
    "assisting in inventory planning and marketing campaigns.\n",
    "\n",
    "Purchase Frequency: Understanding \"Frequency of Purchases\" enables segmentation of \n",
    "customers and tailored engagement strategies.\n",
    "\n",
    "In essence, this dataset is a glimpse into the heart of retail, where consumer choices \n",
    "meet business strategy. Extracting and exploring this data is the compass guiding us \n",
    "through the labyrinth of consumer preferences, market dynamics, and profitability. \n",
    "As we embark on this journey, prepare to unveil the hidden patterns and stories within\n",
    "the numbers. Welcome to the world of Adidas sales, where data transforms into informed \n",
    "decisions, and decisions drive business success.\n",
    "\n",
    "\"\"\""
   ]
  },
  {
   "cell_type": "code",
   "execution_count": null,
   "metadata": {},
   "outputs": [],
   "source": [
    "#analysis of shopping_trends"
   ]
  },
  {
   "cell_type": "code",
   "execution_count": null,
   "metadata": {},
   "outputs": [],
   "source": [
    "%%sql\n",
    "SELECT * FROM data_shopping_trends LIMIT 5"
   ]
  },
  {
   "cell_type": "code",
   "execution_count": null,
   "metadata": {},
   "outputs": [],
   "source": [
    "result_trends = %sql SELECT * FROM data_shopping_trends\n",
    "df_trends = result_trends.DataFrame()"
   ]
  },
  {
   "cell_type": "code",
   "execution_count": null,
   "metadata": {},
   "outputs": [],
   "source": [
    "df_trends.head()"
   ]
  },
  {
   "cell_type": "code",
   "execution_count": null,
   "metadata": {},
   "outputs": [],
   "source": [
    "# 1. Customer-Centric Strategies\n",
    "# Analyze customer attributes like age, gender, and subscription status"
   ]
  },
  {
   "cell_type": "code",
   "execution_count": null,
   "metadata": {},
   "outputs": [],
   "source": [
    "# 1.1 Get the Ranges of ages\n",
    "min_age = df_trends['Age'].min()\n",
    "max_age = df_trends['Age'].max()\n",
    "\n",
    "print(f\"The minimum age in the dataset is: {min_age}\")\n",
    "print(f\"The maximum age in the dataset is: {max_age}\")"
   ]
  },
  {
   "cell_type": "code",
   "execution_count": null,
   "metadata": {},
   "outputs": [],
   "source": [
    "# 1.2 Proportion of ages\n",
    "age_counts = df_trends['Age'].value_counts().sort_index()\n",
    "plt.figure(figsize=(15, 7))\n",
    "plt.bar(age_counts.index, age_counts.values,  alpha=0.5, color='cornflowerblue')\n",
    "plt.title('Proportion of Ages in Adidas Customers')\n",
    "plt.xlabel('Ages')\n",
    "plt.ylabel('Count')\n",
    "plt.show()"
   ]
  },
  {
   "cell_type": "code",
   "execution_count": null,
   "metadata": {},
   "outputs": [],
   "source": [
    "# 1.3 Group the data by gender and calculate the mean age\n",
    "age_by_gender = df_trends.groupby('Gender')['Age'].mean()\n",
    "\n",
    "# Plot the results\n",
    "sns.set(style=\"whitegrid\")\n",
    "age_plot = sns.barplot(x=age_by_gender.index, y=age_by_gender.values,  alpha=0.5, color='cornflowerblue')\n",
    "age_plot.set(xlabel='Gender', ylabel='Average Age', title='Average Age by Gender in Adidas Customers')\n",
    "plt.show()"
   ]
  },
  {
   "cell_type": "code",
   "execution_count": null,
   "metadata": {},
   "outputs": [],
   "source": [
    "# 1.4 Age Analysis\n",
    "sns.histplot(df_trends['Age'], bins=20,  alpha=0.5, color='cornflowerblue')\n",
    "plt.title('Age Distribution in Adidas Customers')\n",
    "plt.xlabel('Age')\n",
    "plt.ylabel('Frequency')\n",
    "plt.show()"
   ]
  },
  {
   "cell_type": "code",
   "execution_count": null,
   "metadata": {},
   "outputs": [],
   "source": [
    "# 1.5 Define age groups\n",
    "age_bins = [18, 30, 40, 50, 60, 70]\n",
    "age_labels = ['18-30', '31-40', '41-50', '51-60', '61-70']\n",
    "\n",
    "# Create 'Age Group' column\n",
    "df_trends['Age Group'] = pd.cut(df_trends['Age'], bins=age_bins, labels=age_labels, right=False)\n",
    "\n",
    "# Calculate average previous purchases by age group\n",
    "average_previous_purchases_age_group = df_trends.groupby('Age Group')['Previous Purchases'].mean()\n",
    "\n",
    "# Plotting\n",
    "plt.figure(figsize=(10, 6))\n",
    "sns.barplot(x=average_previous_purchases_age_group.index, y=average_previous_purchases_age_group.values,  alpha=0.5, color='cornflowerblue')\n",
    "plt.title('Average Previous Purchases by Age Groups in Adidas Customers')\n",
    "plt.xlabel('Age Group')\n",
    "plt.ylabel('Average Previous Purchases')\n",
    "plt.show()"
   ]
  },
  {
   "cell_type": "code",
   "execution_count": null,
   "metadata": {},
   "outputs": [],
   "source": [
    "# 1.6 Proportion of Purchases by Gender\n",
    "gender_counts = df_trends['Gender'].value_counts()\n",
    "plt.bar(gender_counts.index, gender_counts.values, alpha=0.5, color=['cornflowerblue', 'lightcoral'])\n",
    "plt.title('Proportion of Purchases by Gender in Adidas Customers')\n",
    "plt.xlabel('Gender')\n",
    "plt.ylabel('Count')\n",
    "plt.show()"
   ]
  },
  {
   "cell_type": "code",
   "execution_count": null,
   "metadata": {},
   "outputs": [],
   "source": [
    "plt.figure(figsize=(5, 5))\n",
    "plt.pie(gender_counts, labels=gender_counts.index, autopct='%1.1f%%', colors=['cornflowerblue', 'lightcoral'])\n",
    "plt.title('Proportion of Purchases by Gender in Adidas Customers')\n",
    "plt.show()"
   ]
  },
  {
   "cell_type": "code",
   "execution_count": null,
   "metadata": {},
   "outputs": [],
   "source": [
    "average_previous_purchases_gender = df_trends.groupby('Gender')['Previous Purchases'].mean()\n",
    "\n",
    "# Average Previous Purchases by Gender with specified colors\n",
    "sns.barplot(x=average_previous_purchases_gender.index, y=average_previous_purchases_gender.values, alpha=0.5, palette=['cornflowerblue', 'lightcoral'])\n",
    "plt.title('Average Previous Purchases by Gender in Adidas Customers')\n",
    "plt.xlabel('Gender')\n",
    "plt.ylabel('Average Previous Purchases')\n",
    "plt.show()"
   ]
  },
  {
   "cell_type": "code",
   "execution_count": null,
   "metadata": {},
   "outputs": [],
   "source": [
    "# 1.8 Calculate average purchase amount by gender\n",
    "average_purchase_amount_gender = df_trends.groupby('Gender')['Purchase Amount (USD)'].mean()\n",
    "\n",
    "# Plotting\n",
    "plt.figure(figsize=(7, 7))\n",
    "sns.barplot(x=average_purchase_amount_gender.index, y=average_purchase_amount_gender.values, alpha=0.5, palette=['cornflowerblue', 'lightcoral'])\n",
    "plt.title('Average Purchase Amount by Gender in Adidas Customers')\n",
    "plt.xlabel('Gender')\n",
    "plt.ylabel('Average Purchase Amount (USD)')\n",
    "plt.show()"
   ]
  },
  {
   "cell_type": "code",
   "execution_count": null,
   "metadata": {},
   "outputs": [],
   "source": [
    "# 2. Product Insights\n",
    "# Analyze item sales and categories\n",
    "best_sellers = df_trends['Item Purchased'].value_counts().head(10)\n",
    "best_sellers.plot(kind='bar', title='Top 10 Best-Selling Adidas Products', alpha=0.5, color='cornflowerblue')\n",
    "plt.xlabel('Product')\n",
    "plt.ylabel('Count')\n",
    "plt.show()"
   ]
  },
  {
   "cell_type": "code",
   "execution_count": null,
   "metadata": {},
   "outputs": [],
   "source": [
    "# 2.1. Item Purchased Analysis (Overall Count)\n",
    "plt.figure(figsize=(15, 8))\n",
    "sns.countplot(y='Item Purchased', data=df_trends, order=df_trends['Item Purchased'].value_counts().index, alpha=0.5, color='cornflowerblue')\n",
    "plt.title('Overall Distribution of Adidas Products Purchased')\n",
    "plt.xlabel('Count')\n",
    "plt.ylabel('Item Purchased')\n",
    "plt.show()"
   ]
  },
  {
   "cell_type": "code",
   "execution_count": null,
   "metadata": {},
   "outputs": [],
   "source": [
    "# 2.2 Categorical Variables\n",
    "plt.figure(figsize=(15, 15))\n",
    "\n",
    "# Number of products sold by category\n",
    "plt.subplot(3, 2, 1)\n",
    "sns.countplot(x='Category', data=df_trends, alpha=0.5, color='cornflowerblue')\n",
    "plt.title('Number of Adidas Products Sold by Category')\n",
    "\n",
    "# Number of products sold by size\n",
    "plt.subplot(3, 2, 2)\n",
    "sns.countplot(x='Size', data=df_trends, alpha=0.5, color='cornflowerblue')\n",
    "plt.title('Number of Adidas Products Sold by Size')"
   ]
  },
  {
   "cell_type": "code",
   "execution_count": null,
   "metadata": {},
   "outputs": [],
   "source": [
    "# 2.3 Color Analysis (Overall Count)\n",
    "plt.figure(figsize=(15, 7))\n",
    "sns.countplot(x='Color', data=df_trends, order=df_trends['Color'].value_counts().index, alpha=0.5, color='cornflowerblue')\n",
    "plt.title('Overall Distribution of Colors for Adidas Products Purchased')\n",
    "plt.xlabel('Color')\n",
    "plt.ylabel('Count')\n",
    "plt.xticks(rotation=45)\n",
    "plt.show()"
   ]
  },
  {
   "cell_type": "code",
   "execution_count": null,
   "metadata": {},
   "outputs": [],
   "source": [
    "# 2.4 Color Analysis (Count by Gender)\n",
    "plt.figure(figsize=(15, 7))\n",
    "colors = ['cornflowerblue', 'lightcoral']\n",
    "sns.countplot(x='Color', hue='Gender', data=df_trends, order=df_trends['Color'].value_counts().index, alpha=0.5, palette=colors)\n",
    "plt.title('Distribution of Adidas Products Colors choosed for Each Gender')\n",
    "plt.xlabel('Color')\n",
    "plt.ylabel('Count')\n",
    "plt.legend(title='Gender', bbox_to_anchor=(1.05, 1), loc='upper left')\n",
    "plt.xticks(rotation=45)\n",
    "plt.show()"
   ]
  },
  {
   "cell_type": "code",
   "execution_count": null,
   "metadata": {},
   "outputs": [],
   "source": [
    "# 3. Subscription Analysis\n",
    "sns.countplot(x='Subscription Status', data=df_trends, alpha=0.5, color='cornflowerblue')\n",
    "plt.title('Number of customers with Adidas Subscription')\n",
    "plt.show()"
   ]
  },
  {
   "cell_type": "code",
   "execution_count": null,
   "metadata": {},
   "outputs": [],
   "source": [
    "# 4. Regional Dynamics\n",
    "# Analyze location data\n",
    "location_counts = df_trends['Location'].value_counts()\n",
    "plt.figure(figsize=(15, 7))\n",
    "location_counts.plot(kind='bar', title='Adidas Sales by Location', alpha=0.5, color='cornflowerblue')\n",
    "plt.xlabel('Location')\n",
    "plt.ylabel('Count')\n",
    "plt.show()"
   ]
  },
  {
   "cell_type": "code",
   "execution_count": null,
   "metadata": {},
   "outputs": [],
   "source": [
    "# 4.1 Get the top 10 locations by purchase count\n",
    "top_locations = df_trends['Location'].value_counts().nlargest(10)\n",
    "\n",
    "# Plotting\n",
    "plt.figure(figsize=(15, 7))\n",
    "sns.barplot(x=top_locations.index, y=top_locations.values, alpha=0.5, palette='pastel')\n",
    "plt.title('Top 10 Locations by Adidas Sales')\n",
    "plt.xlabel('Location')\n",
    "plt.ylabel('Purchase Count')\n",
    "plt.xticks(rotation=45, ha='right')  # Rotate x-axis labels for better readability\n",
    "plt.show()"
   ]
  },
  {
   "cell_type": "code",
   "execution_count": null,
   "metadata": {},
   "outputs": [],
   "source": [
    "# 4.2 Get the top 10 locations by purchase count\n",
    "top_locations = df_trends['Location'].value_counts().nsmallest(10)\n",
    "\n",
    "# Plotting\n",
    "plt.figure(figsize=(15, 7))\n",
    "sns.barplot(x=top_locations.index, y=top_locations.values, alpha=0.5, palette='pastel')\n",
    "plt.title('Top 10 Locations with less Adidas Sales')\n",
    "plt.xlabel('Location')\n",
    "plt.ylabel('Purchase Count')\n",
    "plt.xticks(rotation=45, ha='right')  # Rotate x-axis labels for better readability\n",
    "plt.show()"
   ]
  },
  {
   "cell_type": "code",
   "execution_count": null,
   "metadata": {},
   "outputs": [],
   "source": [
    "# 5. Customer Satisfaction\n",
    "# Analyze review ratings\n",
    "review_ratings = df_trends['Review Rating'].value_counts()\n",
    "plt.figure(figsize=(15, 7))\n",
    "review_ratings.plot(kind='bar', title='Adidas Customer Review Ratings', alpha=0.5, color='cornflowerblue')\n",
    "plt.xlabel('Rating')\n",
    "plt.ylabel('Count')\n",
    "plt.show()"
   ]
  },
  {
   "cell_type": "code",
   "execution_count": null,
   "metadata": {},
   "outputs": [],
   "source": [
    "# 6. Promotion and Discount Optimization\n",
    "# Analyze discounts and promo codes\n",
    "\n",
    "discount_counts = df_trends['Discount Applied'].value_counts()\n",
    "promo_counts = df_trends['Promo Code Used'].value_counts()\n",
    "\n",
    "# Create a figure with two subplots side by side\n",
    "fig, axes = plt.subplots(1, 2, figsize=(15, 5))\n",
    "\n",
    "# Plot the Discount Applied data in the first subplot\n",
    "discount_counts.plot(kind='bar', title='Discount Applied in Adidas Sales', alpha=0.5, color='cornflowerblue', ax=axes[0])\n",
    "axes[0].set_xlabel('Discount Applied')\n",
    "axes[0].set_ylabel('Count')\n",
    "\n",
    "# Plot the Promo Codes Used data in the second subplot\n",
    "promo_counts.plot(kind='bar', title='Promo Codes Used in Adidas Sales', alpha=0.5, color='cornflowerblue', ax=axes[1])\n",
    "axes[1].set_xlabel('Promo Code Used')\n",
    "axes[1].set_ylabel('Count')\n",
    "\n",
    "# Adjust spacing between subplots\n",
    "plt.tight_layout()\n",
    "\n",
    "# Show the plots\n",
    "plt.show()"
   ]
  },
  {
   "cell_type": "code",
   "execution_count": null,
   "metadata": {},
   "outputs": [],
   "source": [
    "# 7. Customer Loyalty\n",
    "# Analyze previous purchases\n",
    "repeat_customers = df_trends['Previous Purchases'].value_counts()\n",
    "plt.figure(figsize=(15, 4))\n",
    "repeat_customers.plot(kind='bar', title='Adidas Customer Purchase History', alpha=0.5, color='cornflowerblue')\n",
    "plt.xlabel('Number of Previous Purchases')\n",
    "plt.ylabel('Count')\n",
    "plt.show()"
   ]
  },
  {
   "cell_type": "code",
   "execution_count": null,
   "metadata": {},
   "outputs": [],
   "source": [
    "# 7.1 Purchasing Frequency Analysis\n",
    "\n",
    "# Count the number of customers with 1 previous purchase\n",
    "customers_with_one_previous_purchase = repeat_customers.get(1, 0)\n",
    "\n",
    "# Print the count of customers who bought only once\n",
    "print(f\"Number of customers who bought only once: {customers_with_one_previous_purchase}\")\n",
    "\n",
    "# Count the number of customers with more than one previous purchase\n",
    "customers_with_more_than_one_previous_purchase = repeat_customers[repeat_customers.index > 1].sum()\n",
    "\n",
    "# Print the count of customers who bought more than once\n",
    "print(f\"Number of customers who bought more than once: {customers_with_more_than_one_previous_purchase}\")"
   ]
  },
  {
   "cell_type": "code",
   "execution_count": null,
   "metadata": {},
   "outputs": [],
   "source": [
    "# 8. Payment Preferences\n",
    "# Analyze preferred payment methods\n",
    "payment_methods = df_trends['Preferred Payment Method'].value_counts()\n",
    "payment_methods.plot(kind='bar', title='Preferred Payment Methods in Adidas Sales', alpha=0.5, color='cornflowerblue')\n",
    "plt.xlabel('Payment Method')\n",
    "plt.ylabel('Count')\n",
    "plt.show()"
   ]
  },
  {
   "cell_type": "code",
   "execution_count": null,
   "metadata": {},
   "outputs": [],
   "source": [
    "# 8.1 Payment Methods in Adidas Sales\n",
    "sns.countplot(x='Payment Method', data=df_trends, alpha=0.5, color='cornflowerblue')\n",
    "plt.title('Payment Methods in Adidas Sales')\n",
    "plt.show()"
   ]
  },
  {
   "cell_type": "code",
   "execution_count": null,
   "metadata": {},
   "outputs": [],
   "source": [
    "# 9. Seasonal Trends\n",
    "# Analyze seasonal variations\n",
    "seasonal_sales = df_trends['Season'].value_counts()\n",
    "seasonal_sales.plot(kind='bar', title='Seasonal Trends in Adidas Sales', alpha=0.5, color='cornflowerblue')\n",
    "plt.xlabel('Season')\n",
    "plt.ylabel('Count')\n",
    "plt.show()"
   ]
  },
  {
   "cell_type": "code",
   "execution_count": null,
   "metadata": {},
   "outputs": [],
   "source": [
    "# 9.1 Number of products sold in the season\n",
    "sns.countplot(x='Season', data=df_trends, alpha=0.5, color='cornflowerblue')\n",
    "plt.title('Number of Adidas Sales in the season')\n",
    "plt.show()"
   ]
  },
  {
   "cell_type": "code",
   "execution_count": null,
   "metadata": {},
   "outputs": [],
   "source": [
    "# 9.2 Average Previous Purchases by Season\n",
    "# Calculate average previous purchases by gender\n",
    "average_previous_purchases_season = df_trends.groupby('Season')['Previous Purchases'].mean()\n",
    "\n",
    "sns.barplot(x=average_previous_purchases_season.index, y=average_previous_purchases_season.values, order=average_previous_purchases_season.index, alpha=0.5, color='cornflowerblue')\n",
    "plt.title('Average Previous Adidas Sales by Season')\n",
    "plt.xlabel('Season')\n",
    "plt.ylabel('Average Number of Purchases')\n",
    "plt.show()"
   ]
  },
  {
   "cell_type": "code",
   "execution_count": null,
   "metadata": {},
   "outputs": [],
   "source": [
    "# 10. Purchase Frequency\n",
    "# Analyze purchase frequency\n",
    "purchase_frequency = df_trends['Frequency of Purchases'].value_counts()\n",
    "plt.figure(figsize=(15, 7))\n",
    "purchase_frequency.plot(kind='bar', title='Purchase Frequency of Adidas Customers', alpha=0.5, color='cornflowerblue')\n",
    "plt.xlabel('Frequency of Purchases')\n",
    "plt.ylabel('Count')\n",
    "plt.show()"
   ]
  },
  {
   "cell_type": "code",
   "execution_count": null,
   "metadata": {},
   "outputs": [],
   "source": [
    "# 10.1 Frequency of Purchases by Gender\n",
    "plt.figure(figsize=(8, 6))\n",
    "sns.countplot(x='Frequency of Purchases', hue='Gender', data=df_trends, order=df_trends['Frequency of Purchases'].value_counts().index, alpha=0.5, palette=['cornflowerblue', 'lightcoral'])\n",
    "plt.title('Purchase Frequency of Adidas Customers by Gender')\n",
    "plt.xlabel('Frequency of Purchases')\n",
    "plt.ylabel('Count')\n",
    "plt.legend(title='Gender', bbox_to_anchor=(1.05, 1), loc='upper left')\n",
    "plt.show()"
   ]
  },
  {
   "cell_type": "code",
   "execution_count": null,
   "metadata": {},
   "outputs": [],
   "source": [
    "# 11. Purchase Behavior\n",
    "# Get the minimum and maximum purchase amounts in dollars\n",
    "min_purchase_amount = df_trends['Purchase Amount (USD)'].min()\n",
    "max_purchase_amount = df_trends['Purchase Amount (USD)'].max()\n",
    "\n",
    "print(f\"The minimum purchase amount is: ${min_purchase_amount:.2f}\")\n",
    "print(f\"The maximum purchase amount is: ${max_purchase_amount:.2f}\")"
   ]
  },
  {
   "cell_type": "code",
   "execution_count": null,
   "metadata": {},
   "outputs": [],
   "source": [
    "# 11.1 Purchase Amount distribution \n",
    "plt.figure(figsize=(15, 5))\n",
    "plt.title('Purchase Amount distribution of Adidas Customers')\n",
    "sns.histplot(df_trends['Purchase Amount (USD)'], bins=20, alpha=0.5, color='cornflowerblue')\n",
    "plt.show()"
   ]
  },
  {
   "cell_type": "code",
   "execution_count": null,
   "metadata": {},
   "outputs": [],
   "source": [
    "# 11.2 Average purchase amount by ranges\n",
    "# Define purchase amount groups\n",
    "amount_bins = [20, 50, 80, 100]\n",
    "amount_labels = ['20-50', '51-80', '81-100']\n",
    "\n",
    "# Create 'Amount Group' column\n",
    "df_trends['Amount Group'] = pd.cut(df_trends['Purchase Amount (USD)'], bins=amount_bins, labels=amount_labels, right=False)\n",
    "\n",
    "# Calculate average purchase amount by amount group\n",
    "average_purchase_amount_group = df_trends.groupby('Amount Group')['Purchase Amount (USD)'].mean()\n",
    "\n",
    "# Plotting\n",
    "plt.figure(figsize=(10, 6))\n",
    "sns.barplot(x=average_purchase_amount_group.index, y=average_purchase_amount_group.values, alpha=0.5, color='cornflowerblue')\n",
    "plt.title('Average Purchase Amount by age ranges of Adidas Customers')\n",
    "plt.xlabel('Amount Group')\n",
    "plt.ylabel('Average Purchase Amount (USD)')\n",
    "plt.show()"
   ]
  },
  {
   "cell_type": "code",
   "execution_count": null,
   "metadata": {},
   "outputs": [],
   "source": []
  },
  {
   "cell_type": "markdown",
   "metadata": {},
   "source": [
    "# Comparison analysis with the competition."
   ]
  },
  {
   "cell_type": "code",
   "execution_count": null,
   "metadata": {},
   "outputs": [],
   "source": [
    "dl = %sql SELECT * FROM data_adidasvsnike\n",
    "df_comp = dl.DataFrame()"
   ]
  },
  {
   "cell_type": "markdown",
   "metadata": {},
   "source": [
    "The dataset overview."
   ]
  },
  {
   "cell_type": "code",
   "execution_count": null,
   "metadata": {},
   "outputs": [],
   "source": [
    "df_comp.head(5)"
   ]
  },
  {
   "cell_type": "code",
   "execution_count": null,
   "metadata": {},
   "outputs": [],
   "source": [
    "# No null values on data\n",
    "df_comp.info()\n",
    "df_comp.describe()"
   ]
  },
  {
   "cell_type": "markdown",
   "metadata": {},
   "source": [
    "Time series 'Last Visited' gives out date of data retrieval of 36 seconds. No much info there. **Just speaks to the relevance of the analysis aplicability.**"
   ]
  },
  {
   "cell_type": "markdown",
   "metadata": {},
   "source": [
    "### Data Cleaning and Processing"
   ]
  },
  {
   "cell_type": "code",
   "execution_count": null,
   "metadata": {},
   "outputs": [],
   "source": [
    "# Date formatting, and dropping of unuseful data \n",
    "df_comp['Last Visited'] = pd.to_datetime(df_comp['Last Visited'])\n",
    "df_comp = df_comp.drop(columns=['Product ID'], axis = 1)\n",
    "df_comp.head(5)"
   ]
  },
  {
   "cell_type": "code",
   "execution_count": null,
   "metadata": {},
   "outputs": [],
   "source": [
    "# Sale price, Amount it actually sells for\n",
    "# Listing price, Amount asked by seller\n",
    "# We look at zero values \n",
    "\n",
    "# [(i, j) for i, j in enumerate(mylist)] We drop i\n",
    "List_price_zeros = [idx for idx, value in enumerate(df_comp['Listing Price']) if value == 0]\n",
    "Sale_price_zeros = [idx for idx, value in enumerate(df_comp['Sale Price']) if value == 0]\n",
    "Disc_zeros = [idx for idx, value in enumerate(df_comp['Discount']) if value == 0]\n",
    "print(f'length of Zeros list on List Price: {len(List_price_zeros)},\\n Sale Price: {len(Sale_price_zeros)},\\n Discounts: {len(Disc_zeros)}')\n",
    "# Missing Listings, next best knowledge of price is that of sale, we fill in\n",
    "df_comp.iloc[List_price_zeros, 1] = df_comp.iloc[List_price_zeros, 2]\n",
    "# No more gaps\n",
    "print(f\"# of Zeros on Listing Price after standardizing: {len([idx for idx, value in enumerate(df_comp['Listing Price']) if value == 0])}\")\n",
    "# We look at the unique brands\n",
    "print(df_comp.Brand.unique())\n",
    "# There appears to be a misnomber, we replace it with apparent correct string\n",
    "df_comp['Brand'] = df_comp['Brand'].replace('Adidas Adidas ORIGINALS', 'Adidas ORIGINALS')\n",
    "print(df_comp.Brand.unique())"
   ]
  },
  {
   "cell_type": "markdown",
   "metadata": {},
   "source": [
    "### EDA of brands"
   ]
  },
  {
   "cell_type": "markdown",
   "metadata": {},
   "source": [
    "There's a visible use of discounts on Adidas part, and sub-brands give them out approximatlly equally"
   ]
  },
  {
   "cell_type": "code",
   "execution_count": null,
   "metadata": {},
   "outputs": [],
   "source": [
    "Brands = df_comp.Brand.unique()\n",
    " \n",
    "# Setting size in Chart based on \n",
    "# given values\n",
    "data = df_comp.groupby(['Brand'])['Discount'].mean().to_numpy()\n",
    " \n",
    "# colors\n",
    "colors = ['royalblue', 'lightsteelblue', 'cornflowerblue', \n",
    "          'red']\n",
    "# explosion\n",
    "explode = (0.05, 0.05, 0.05, 0.05)\n",
    " \n",
    "# Pie Chart\n",
    "plt.pie(data, colors=colors, labels=Brands,\n",
    "        autopct='%1.1f%%', pctdistance=0.85,\n",
    "        explode=explode)\n",
    "# draw circle\n",
    "centre_circle = plt.Circle((0, 0), 0.70, fc='white')\n",
    "fig = plt.gcf()\n",
    " \n",
    "# Adding Circle in Pie chart\n",
    "fig.gca().add_artist(centre_circle)\n",
    " \n",
    "# Adding Title of chart\n",
    "plt.title('Discounts Offered by Brands')\n",
    " \n",
    "# Displaying Chart\n",
    "plt.show()"
   ]
  },
  {
   "cell_type": "markdown",
   "metadata": {},
   "source": [
    "### Data pairing"
   ]
  },
  {
   "cell_type": "code",
   "execution_count": null,
   "metadata": {},
   "outputs": [],
   "source": [
    "# We better group by company, getting together sub-brands and dropping Nike\n",
    "\n",
    "Nike = df_comp.groupby(['Brand']).get_group('Nike')\n",
    "subb_list = [df_comp.groupby(['Brand']).get_group(subb) for subb in df_comp.Brand.unique() if subb != 'Nike']\n",
    "Adidas=pd.concat(subb_list)\n",
    "Adidas.reset_index(inplace=True,drop=True)"
   ]
  },
  {
   "cell_type": "markdown",
   "metadata": {},
   "source": [
    "Adidas offers 745 (by the time listed before) more products in general"
   ]
  },
  {
   "cell_type": "code",
   "execution_count": null,
   "metadata": {},
   "outputs": [],
   "source": [
    "# Count for unique values and count again total\n",
    "fig, ax = plt.subplots(layout='constrained') \n",
    "\n",
    "ax.set_ylabel('# Offered Products by Company')\n",
    "ax.set_xlabel('Brands')\n",
    "ax.bar_label(ax.bar(np.arange(len(['Nike', 'Adidas'])) + 0.25, [Nike['Product Name'].value_counts().count(),\n",
    "                             Adidas['Product Name'].value_counts().count()], 0.25,color = ['lightcoral', 'cornflowerblue']), padding=3)\n",
    "ax.set_ylim(0, 1200)\n",
    "ax.set_xticks(np.arange(len(['Nike', 'Adidas'])) + 0.25, ['Nike', 'Adidas'])\n",
    "ax.set_title('Products by Brand')\n",
    "plt.show()"
   ]
  },
  {
   "cell_type": "markdown",
   "metadata": {},
   "source": [
    "The following are the  most purchased products from both brands. Adidas produces more overall common products."
   ]
  },
  {
   "cell_type": "code",
   "execution_count": null,
   "metadata": {},
   "outputs": [],
   "source": [
    "# Inferior limit of 11 count of product, below that not much variability\n",
    "fig, ax = plt.subplots(1,2, sharey=True, figsize=(9,5))\n",
    "ax[0].bar(Adidas['Product Name'].value_counts().head(8).index,\n",
    "           Adidas['Product Name'].value_counts().head(8), color='cornflowerblue', alpha=0.5)\n",
    "ax[0].set_xticklabels(ax[0].get_xticklabels(), rotation=90)\n",
    "ax[1].bar(Nike['Product Name'].value_counts().head(8).index,\n",
    "           Nike['Product Name'].value_counts().head(8), color='lightcoral', alpha=0.5)\n",
    "ax[1].set_xticklabels(ax[1].get_xticklabels(), rotation=90)\n",
    "ax[0].set_title('Adidas')\n",
    "ax[1].set_title('Nike')\n",
    "fig.suptitle('Brand Products Manufactured')\n",
    "ax[0].set_ylabel('Count')\n",
    "plt.show"
   ]
  },
  {
   "cell_type": "markdown",
   "metadata": {},
   "source": [
    "We look the overall distribution and compare with the descriptive statistics of below. We can see Adidas sells cheaper in average."
   ]
  },
  {
   "cell_type": "code",
   "execution_count": null,
   "metadata": {},
   "outputs": [],
   "source": [
    "fig, ax = plt.subplots(2,1,sharex=True,layout='constrained')\n",
    "ax[0].hist(Nike['Listing Price'], histtype='bar', bins=10, alpha=0.5, color='cornflowerblue')\n",
    "ax[0].set_title('Nike')\n",
    "ax[1].hist(Adidas['Listing Price'], histtype='bar', bins=10, alpha=0.5, color='lightcoral')\n",
    "ax[1].set_title('Adidas')\n",
    "fig.suptitle('Average Listing Price')\n",
    "ax[1].set_xlabel('Listing Price')\n",
    "fig.text(-0.04, 0.5, 'Count', va='center', rotation=90)\n",
    "plt.show()"
   ]
  },
  {
   "cell_type": "markdown",
   "metadata": {},
   "source": [
    "Poor costumer satisfaction given low mean rating, the std dev of reviews may suggest popularity."
   ]
  },
  {
   "cell_type": "code",
   "execution_count": null,
   "metadata": {},
   "outputs": [],
   "source": [
    "# Consistent with upper dist \n",
    "print(f'Nike:\\n{Nike.describe()}')"
   ]
  },
  {
   "cell_type": "markdown",
   "metadata": {},
   "source": [
    "Slight increase of 0.63 on mean rating, The low difference might also be because of lower quality products\n",
    "(given the cheapness and notable discounts)\n",
    " Adidas dev is more so a fact of number of offered products, having Nike the shorter end."
   ]
  },
  {
   "cell_type": "code",
   "execution_count": null,
   "metadata": {},
   "outputs": [],
   "source": [
    "print(f'Adidas:\\n{Adidas.describe()}')"
   ]
  },
  {
   "cell_type": "code",
   "execution_count": null,
   "metadata": {},
   "outputs": [],
   "source": [
    "print(len(Nike[Nike.Rating == Nike.Rating.max()]))"
   ]
  },
  {
   "cell_type": "markdown",
   "metadata": {},
   "source": [
    "Again we see Adidas has less equally highly rated products on sale as Nike does given the ratings."
   ]
  },
  {
   "cell_type": "code",
   "execution_count": null,
   "metadata": {},
   "outputs": [],
   "source": [
    "print(len(Adidas[Adidas.Rating == Adidas.Rating.max()]))"
   ]
  }
 ],
 "metadata": {
  "kernelspec": {
   "display_name": "Python 3 (ipykernel)",
   "language": "python",
   "name": "python3"
  },
  "language_info": {
   "codemirror_mode": {
    "name": "ipython",
    "version": 3
   },
   "file_extension": ".py",
   "mimetype": "text/x-python",
   "name": "python",
   "nbconvert_exporter": "python",
   "pygments_lexer": "ipython3",
   "version": "3.10.13"
  },
  "papermill": {
   "environment_variables": {},
   "parameters": {
    "product": {
     "nb": "C:\\Users\\padro\\OneDrive\\Desktop\\ploomber\\sql-etl-analytics\\sql-etl-analytics\\src\\logs\\eda-pipeline.ipynb"
    }
   },
   "version": null
  }
 },
 "nbformat": 4,
 "nbformat_minor": 2
}
