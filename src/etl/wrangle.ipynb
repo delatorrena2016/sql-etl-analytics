{
 "cells": [
  {
   "cell_type": "code",
   "execution_count": 1,
   "metadata": {},
   "outputs": [],
   "source": [
    "import matplotlib.pyplot as plt\n",
    "import seaborn as sns"
   ]
  },
  {
   "cell_type": "code",
   "execution_count": 2,
   "metadata": {},
   "outputs": [
    {
     "name": "stdout",
     "output_type": "stream",
     "text": [
      "Note: you may need to restart the kernel to use updated packages.\n"
     ]
    },
    {
     "name": "stderr",
     "output_type": "stream",
     "text": [
      "WARNING: Ignoring invalid distribution -ffi (c:\\users\\padro\\miniconda3\\envs\\hacktoberfest-env\\lib\\site-packages)\n",
      "WARNING: Ignoring invalid distribution -ffi (c:\\users\\padro\\miniconda3\\envs\\hacktoberfest-env\\lib\\site-packages)\n"
     ]
    }
   ],
   "source": [
    "%pip install jupysql --upgrade duckdb-engine pandas --quiet"
   ]
  },
  {
   "cell_type": "code",
   "execution_count": 3,
   "metadata": {},
   "outputs": [
    {
     "data": {
      "text/html": [
       "Tip: You may define configurations in C:\\Users\\padro\\OneDrive\\Desktop\\ploomber\\sql-etl-analytics\\sql-etl-analytics\\pyproject.toml. Please review our <a href='https://jupysql.ploomber.io/en/latest/api/configuration.html#loading-from-pyproject-toml'>configuration guideline</a>."
      ],
      "text/plain": [
       "<IPython.core.display.HTML object>"
      ]
     },
     "metadata": {},
     "output_type": "display_data"
    }
   ],
   "source": [
    "%reload_ext sql"
   ]
  },
  {
   "cell_type": "code",
   "execution_count": 4,
   "metadata": {},
   "outputs": [
    {
     "data": {
      "text/html": [
       "<span style=\"None\">Connecting to &#x27;duckdb:///../data/adidas.duckdb&#x27;</span>"
      ],
      "text/plain": [
       "Connecting to 'duckdb:///../data/adidas.duckdb'"
      ]
     },
     "metadata": {},
     "output_type": "display_data"
    }
   ],
   "source": [
    "%sql duckdb:///../data/adidas.duckdb\n"
   ]
  },
  {
   "cell_type": "code",
   "execution_count": 5,
   "metadata": {},
   "outputs": [
    {
     "data": {
      "text/html": [
       "<span style=\"None\">Running query in &#x27;duckdb:///../data/adidas.duckdb&#x27;</span>"
      ],
      "text/plain": [
       "Running query in 'duckdb:///../data/adidas.duckdb'"
      ]
     },
     "metadata": {},
     "output_type": "display_data"
    },
    {
     "data": {
      "text/html": [
       "<table>\n",
       "    <thead>\n",
       "        <tr>\n",
       "            <th>Retailer</th>\n",
       "            <th>Retailer ID</th>\n",
       "            <th>Invoice Date</th>\n",
       "            <th>Region</th>\n",
       "            <th>State</th>\n",
       "            <th>City</th>\n",
       "            <th>Product</th>\n",
       "            <th>Price per Unit</th>\n",
       "            <th>Units Sold</th>\n",
       "            <th>Total Sales</th>\n",
       "            <th>Operating Profit</th>\n",
       "            <th>Operating Margin</th>\n",
       "            <th>Sales Method</th>\n",
       "        </tr>\n",
       "    </thead>\n",
       "    <tbody>\n",
       "        <tr>\n",
       "            <td>Foot Locker</td>\n",
       "            <td>1185732</td>\n",
       "            <td>2020-01-01 00:00:00</td>\n",
       "            <td>Northeast</td>\n",
       "            <td>New York</td>\n",
       "            <td>New York</td>\n",
       "            <td>Men's Street Footwear</td>\n",
       "            <td>50.0</td>\n",
       "            <td>1200</td>\n",
       "            <td>600000.0</td>\n",
       "            <td>300000.0</td>\n",
       "            <td>0.5</td>\n",
       "            <td>In-store</td>\n",
       "        </tr>\n",
       "        <tr>\n",
       "            <td>Foot Locker</td>\n",
       "            <td>1185732</td>\n",
       "            <td>2020-01-02 00:00:00</td>\n",
       "            <td>Northeast</td>\n",
       "            <td>New York</td>\n",
       "            <td>New York</td>\n",
       "            <td>Men's Athletic Footwear</td>\n",
       "            <td>50.0</td>\n",
       "            <td>1000</td>\n",
       "            <td>500000.0</td>\n",
       "            <td>150000.0</td>\n",
       "            <td>0.3</td>\n",
       "            <td>In-store</td>\n",
       "        </tr>\n",
       "        <tr>\n",
       "            <td>Foot Locker</td>\n",
       "            <td>1185732</td>\n",
       "            <td>2020-01-03 00:00:00</td>\n",
       "            <td>Northeast</td>\n",
       "            <td>New York</td>\n",
       "            <td>New York</td>\n",
       "            <td>Women's Street Footwear</td>\n",
       "            <td>40.0</td>\n",
       "            <td>1000</td>\n",
       "            <td>400000.0</td>\n",
       "            <td>140000.0</td>\n",
       "            <td>0.35</td>\n",
       "            <td>In-store</td>\n",
       "        </tr>\n",
       "        <tr>\n",
       "            <td>Foot Locker</td>\n",
       "            <td>1185732</td>\n",
       "            <td>2020-01-04 00:00:00</td>\n",
       "            <td>Northeast</td>\n",
       "            <td>New York</td>\n",
       "            <td>New York</td>\n",
       "            <td>Women's Athletic Footwear</td>\n",
       "            <td>45.0</td>\n",
       "            <td>850</td>\n",
       "            <td>382500.0</td>\n",
       "            <td>133875.0</td>\n",
       "            <td>0.35</td>\n",
       "            <td>In-store</td>\n",
       "        </tr>\n",
       "        <tr>\n",
       "            <td>Foot Locker</td>\n",
       "            <td>1185732</td>\n",
       "            <td>2020-01-05 00:00:00</td>\n",
       "            <td>Northeast</td>\n",
       "            <td>New York</td>\n",
       "            <td>New York</td>\n",
       "            <td>Men's Apparel</td>\n",
       "            <td>60.0</td>\n",
       "            <td>900</td>\n",
       "            <td>540000.0</td>\n",
       "            <td>162000.0</td>\n",
       "            <td>0.3</td>\n",
       "            <td>In-store</td>\n",
       "        </tr>\n",
       "    </tbody>\n",
       "</table>"
      ],
      "text/plain": [
       "+-------------+-------------+---------------------+-----------+----------+----------+---------------------------+----------------+------------+-------------+------------------+------------------+--------------+\n",
       "|   Retailer  | Retailer ID |     Invoice Date    |   Region  |  State   |   City   |          Product          | Price per Unit | Units Sold | Total Sales | Operating Profit | Operating Margin | Sales Method |\n",
       "+-------------+-------------+---------------------+-----------+----------+----------+---------------------------+----------------+------------+-------------+------------------+------------------+--------------+\n",
       "| Foot Locker |   1185732   | 2020-01-01 00:00:00 | Northeast | New York | New York |   Men's Street Footwear   |      50.0      |    1200    |   600000.0  |     300000.0     |       0.5        |   In-store   |\n",
       "| Foot Locker |   1185732   | 2020-01-02 00:00:00 | Northeast | New York | New York |  Men's Athletic Footwear  |      50.0      |    1000    |   500000.0  |     150000.0     |       0.3        |   In-store   |\n",
       "| Foot Locker |   1185732   | 2020-01-03 00:00:00 | Northeast | New York | New York |  Women's Street Footwear  |      40.0      |    1000    |   400000.0  |     140000.0     |       0.35       |   In-store   |\n",
       "| Foot Locker |   1185732   | 2020-01-04 00:00:00 | Northeast | New York | New York | Women's Athletic Footwear |      45.0      |    850     |   382500.0  |     133875.0     |       0.35       |   In-store   |\n",
       "| Foot Locker |   1185732   | 2020-01-05 00:00:00 | Northeast | New York | New York |       Men's Apparel       |      60.0      |    900     |   540000.0  |     162000.0     |       0.3        |   In-store   |\n",
       "+-------------+-------------+---------------------+-----------+----------+----------+---------------------------+----------------+------------+-------------+------------------+------------------+--------------+"
      ]
     },
     "execution_count": 5,
     "metadata": {},
     "output_type": "execute_result"
    }
   ],
   "source": [
    "%%sql\n",
    "SELECT * FROM data_sales_adidas LIMIT 5"
   ]
  },
  {
   "cell_type": "code",
   "execution_count": 6,
   "metadata": {},
   "outputs": [
    {
     "data": {
      "text/html": [
       "<span style=\"None\">Running query in &#x27;duckdb:///../data/adidas.duckdb&#x27;</span>"
      ],
      "text/plain": [
       "Running query in 'duckdb:///../data/adidas.duckdb'"
      ]
     },
     "metadata": {},
     "output_type": "display_data"
    }
   ],
   "source": [
    "result = %sql SELECT * FROM data_sales_adidas\n",
    "df = result.DataFrame()"
   ]
  },
  {
   "cell_type": "code",
   "execution_count": 7,
   "metadata": {},
   "outputs": [
    {
     "data": {
      "text/html": [
       "<div>\n",
       "<style scoped>\n",
       "    .dataframe tbody tr th:only-of-type {\n",
       "        vertical-align: middle;\n",
       "    }\n",
       "\n",
       "    .dataframe tbody tr th {\n",
       "        vertical-align: top;\n",
       "    }\n",
       "\n",
       "    .dataframe thead th {\n",
       "        text-align: right;\n",
       "    }\n",
       "</style>\n",
       "<table border=\"1\" class=\"dataframe\">\n",
       "  <thead>\n",
       "    <tr style=\"text-align: right;\">\n",
       "      <th></th>\n",
       "      <th>Retailer</th>\n",
       "      <th>Retailer ID</th>\n",
       "      <th>Invoice Date</th>\n",
       "      <th>Region</th>\n",
       "      <th>State</th>\n",
       "      <th>City</th>\n",
       "      <th>Product</th>\n",
       "      <th>Price per Unit</th>\n",
       "      <th>Units Sold</th>\n",
       "      <th>Total Sales</th>\n",
       "      <th>Operating Profit</th>\n",
       "      <th>Operating Margin</th>\n",
       "      <th>Sales Method</th>\n",
       "    </tr>\n",
       "  </thead>\n",
       "  <tbody>\n",
       "    <tr>\n",
       "      <th>0</th>\n",
       "      <td>Foot Locker</td>\n",
       "      <td>1185732</td>\n",
       "      <td>2020-01-01</td>\n",
       "      <td>Northeast</td>\n",
       "      <td>New York</td>\n",
       "      <td>New York</td>\n",
       "      <td>Men's Street Footwear</td>\n",
       "      <td>50.0</td>\n",
       "      <td>1200</td>\n",
       "      <td>600000.0</td>\n",
       "      <td>300000.0</td>\n",
       "      <td>0.50</td>\n",
       "      <td>In-store</td>\n",
       "    </tr>\n",
       "    <tr>\n",
       "      <th>1</th>\n",
       "      <td>Foot Locker</td>\n",
       "      <td>1185732</td>\n",
       "      <td>2020-01-02</td>\n",
       "      <td>Northeast</td>\n",
       "      <td>New York</td>\n",
       "      <td>New York</td>\n",
       "      <td>Men's Athletic Footwear</td>\n",
       "      <td>50.0</td>\n",
       "      <td>1000</td>\n",
       "      <td>500000.0</td>\n",
       "      <td>150000.0</td>\n",
       "      <td>0.30</td>\n",
       "      <td>In-store</td>\n",
       "    </tr>\n",
       "    <tr>\n",
       "      <th>2</th>\n",
       "      <td>Foot Locker</td>\n",
       "      <td>1185732</td>\n",
       "      <td>2020-01-03</td>\n",
       "      <td>Northeast</td>\n",
       "      <td>New York</td>\n",
       "      <td>New York</td>\n",
       "      <td>Women's Street Footwear</td>\n",
       "      <td>40.0</td>\n",
       "      <td>1000</td>\n",
       "      <td>400000.0</td>\n",
       "      <td>140000.0</td>\n",
       "      <td>0.35</td>\n",
       "      <td>In-store</td>\n",
       "    </tr>\n",
       "    <tr>\n",
       "      <th>3</th>\n",
       "      <td>Foot Locker</td>\n",
       "      <td>1185732</td>\n",
       "      <td>2020-01-04</td>\n",
       "      <td>Northeast</td>\n",
       "      <td>New York</td>\n",
       "      <td>New York</td>\n",
       "      <td>Women's Athletic Footwear</td>\n",
       "      <td>45.0</td>\n",
       "      <td>850</td>\n",
       "      <td>382500.0</td>\n",
       "      <td>133875.0</td>\n",
       "      <td>0.35</td>\n",
       "      <td>In-store</td>\n",
       "    </tr>\n",
       "    <tr>\n",
       "      <th>4</th>\n",
       "      <td>Foot Locker</td>\n",
       "      <td>1185732</td>\n",
       "      <td>2020-01-05</td>\n",
       "      <td>Northeast</td>\n",
       "      <td>New York</td>\n",
       "      <td>New York</td>\n",
       "      <td>Men's Apparel</td>\n",
       "      <td>60.0</td>\n",
       "      <td>900</td>\n",
       "      <td>540000.0</td>\n",
       "      <td>162000.0</td>\n",
       "      <td>0.30</td>\n",
       "      <td>In-store</td>\n",
       "    </tr>\n",
       "  </tbody>\n",
       "</table>\n",
       "</div>"
      ],
      "text/plain": [
       "      Retailer  Retailer ID Invoice Date     Region     State      City  \\\n",
       "0  Foot Locker      1185732   2020-01-01  Northeast  New York  New York   \n",
       "1  Foot Locker      1185732   2020-01-02  Northeast  New York  New York   \n",
       "2  Foot Locker      1185732   2020-01-03  Northeast  New York  New York   \n",
       "3  Foot Locker      1185732   2020-01-04  Northeast  New York  New York   \n",
       "4  Foot Locker      1185732   2020-01-05  Northeast  New York  New York   \n",
       "\n",
       "                     Product  Price per Unit  Units Sold  Total Sales  \\\n",
       "0      Men's Street Footwear            50.0        1200     600000.0   \n",
       "1    Men's Athletic Footwear            50.0        1000     500000.0   \n",
       "2    Women's Street Footwear            40.0        1000     400000.0   \n",
       "3  Women's Athletic Footwear            45.0         850     382500.0   \n",
       "4              Men's Apparel            60.0         900     540000.0   \n",
       "\n",
       "   Operating Profit  Operating Margin Sales Method  \n",
       "0          300000.0              0.50     In-store  \n",
       "1          150000.0              0.30     In-store  \n",
       "2          140000.0              0.35     In-store  \n",
       "3          133875.0              0.35     In-store  \n",
       "4          162000.0              0.30     In-store  "
      ]
     },
     "execution_count": 7,
     "metadata": {},
     "output_type": "execute_result"
    }
   ],
   "source": [
    "df.head()"
   ]
  },
  {
   "cell_type": "code",
   "execution_count": 8,
   "metadata": {},
   "outputs": [
    {
     "data": {
      "image/png": "[encoded data removed]",
      "text/plain": [
       "<Figure size 1200x600 with 1 Axes>"
      ]
     },
     "metadata": {},
     "output_type": "display_data"
    },
    {
     "data": {
      "image/png": "[encoded data removed]",
      "text/plain": [
       "<Figure size 800x400 with 1 Axes>"
      ]
     },
     "metadata": {},
     "output_type": "display_data"
    }
   ],
   "source": [
    "plt.figure(figsize=(12, 6))\n",
    "ax1 = sns.countplot(x='Retailer', data=df)\n",
    "plt.title('Distribution of Retailers')\n",
    "plt.ylabel('Number of retailers')\n",
    "\n",
    "# Adding counts on top of bars as integers\n",
    "for p in ax1.patches:\n",
    "    ax1.annotate(f'{int(p.get_height())}', (p.get_x() + p.get_width() / 2., p.get_height()), ha='center', va='center', xytext=(0, 7), textcoords='offset points')\n",
    "\n",
    "plt.show()\n",
    "\n",
    "# Countplot for Sales Method\n",
    "plt.figure(figsize=(8, 4))\n",
    "ax2 = sns.countplot(x='Sales Method', data=df)\n",
    "plt.title('Distribution of Sales Methods')\n",
    "plt.ylabel('Number of retailers with the sales methods')\n",
    "\n",
    "# Adding counts on top of bars as integers\n",
    "for p in ax2.patches:\n",
    "    ax2.annotate(f'{int(p.get_height())}', (p.get_x() + p.get_width() / 2., p.get_height()), ha='center', va='center', xytext=(0, 6), textcoords='offset points')\n",
    "\n",
    "plt.show()"
   ]
  },
  {
   "cell_type": "code",
   "execution_count": 9,
   "metadata": {},
   "outputs": [],
   "source": [
    "#%sql duckdb:///../data/trends.duckdb"
   ]
  },
  {
   "cell_type": "code",
   "execution_count": 10,
   "metadata": {},
   "outputs": [
    {
     "data": {
      "text/html": [
       "<span style=\"None\">Running query in &#x27;duckdb:///../data/adidas.duckdb&#x27;</span>"
      ],
      "text/plain": [
       "Running query in 'duckdb:///../data/adidas.duckdb'"
      ]
     },
     "metadata": {},
     "output_type": "display_data"
    },
    {
     "data": {
      "text/html": [
       "<table>\n",
       "    <thead>\n",
       "        <tr>\n",
       "            <th>Customer ID</th>\n",
       "            <th>Age</th>\n",
       "            <th>Gender</th>\n",
       "            <th>Item Purchased</th>\n",
       "            <th>Category</th>\n",
       "            <th>Purchase Amount (USD)</th>\n",
       "            <th>Location</th>\n",
       "            <th>Size</th>\n",
       "            <th>Color</th>\n",
       "            <th>Season</th>\n",
       "            <th>Review Rating</th>\n",
       "            <th>Subscription Status</th>\n",
       "            <th>Payment Method</th>\n",
       "            <th>Shipping Type</th>\n",
       "            <th>Discount Applied</th>\n",
       "            <th>Promo Code Used</th>\n",
       "            <th>Previous Purchases</th>\n",
       "            <th>Preferred Payment Method</th>\n",
       "            <th>Frequency of Purchases</th>\n",
       "        </tr>\n",
       "    </thead>\n",
       "    <tbody>\n",
       "        <tr>\n",
       "            <td>1</td>\n",
       "            <td>55</td>\n",
       "            <td>Male</td>\n",
       "            <td>Blouse</td>\n",
       "            <td>Clothing</td>\n",
       "            <td>53</td>\n",
       "            <td>Kentucky</td>\n",
       "            <td>L</td>\n",
       "            <td>Gray</td>\n",
       "            <td>Winter</td>\n",
       "            <td>3.1</td>\n",
       "            <td>Yes</td>\n",
       "            <td>Credit Card</td>\n",
       "            <td>Express</td>\n",
       "            <td>Yes</td>\n",
       "            <td>Yes</td>\n",
       "            <td>14</td>\n",
       "            <td>Venmo</td>\n",
       "            <td>Fortnightly</td>\n",
       "        </tr>\n",
       "        <tr>\n",
       "            <td>2</td>\n",
       "            <td>19</td>\n",
       "            <td>Male</td>\n",
       "            <td>Sweater</td>\n",
       "            <td>Clothing</td>\n",
       "            <td>64</td>\n",
       "            <td>Maine</td>\n",
       "            <td>L</td>\n",
       "            <td>Maroon</td>\n",
       "            <td>Winter</td>\n",
       "            <td>3.1</td>\n",
       "            <td>Yes</td>\n",
       "            <td>Bank Transfer</td>\n",
       "            <td>Express</td>\n",
       "            <td>Yes</td>\n",
       "            <td>Yes</td>\n",
       "            <td>2</td>\n",
       "            <td>Cash</td>\n",
       "            <td>Fortnightly</td>\n",
       "        </tr>\n",
       "        <tr>\n",
       "            <td>3</td>\n",
       "            <td>50</td>\n",
       "            <td>Male</td>\n",
       "            <td>Jeans</td>\n",
       "            <td>Clothing</td>\n",
       "            <td>73</td>\n",
       "            <td>Massachusetts</td>\n",
       "            <td>S</td>\n",
       "            <td>Maroon</td>\n",
       "            <td>Spring</td>\n",
       "            <td>3.1</td>\n",
       "            <td>Yes</td>\n",
       "            <td>Cash</td>\n",
       "            <td>Free Shipping</td>\n",
       "            <td>Yes</td>\n",
       "            <td>Yes</td>\n",
       "            <td>23</td>\n",
       "            <td>Credit Card</td>\n",
       "            <td>Weekly</td>\n",
       "        </tr>\n",
       "        <tr>\n",
       "            <td>4</td>\n",
       "            <td>21</td>\n",
       "            <td>Male</td>\n",
       "            <td>Sandals</td>\n",
       "            <td>Footwear</td>\n",
       "            <td>90</td>\n",
       "            <td>Rhode Island</td>\n",
       "            <td>M</td>\n",
       "            <td>Maroon</td>\n",
       "            <td>Spring</td>\n",
       "            <td>3.5</td>\n",
       "            <td>Yes</td>\n",
       "            <td>PayPal</td>\n",
       "            <td>Next Day Air</td>\n",
       "            <td>Yes</td>\n",
       "            <td>Yes</td>\n",
       "            <td>49</td>\n",
       "            <td>PayPal</td>\n",
       "            <td>Weekly</td>\n",
       "        </tr>\n",
       "        <tr>\n",
       "            <td>5</td>\n",
       "            <td>45</td>\n",
       "            <td>Male</td>\n",
       "            <td>Blouse</td>\n",
       "            <td>Clothing</td>\n",
       "            <td>49</td>\n",
       "            <td>Oregon</td>\n",
       "            <td>M</td>\n",
       "            <td>Turquoise</td>\n",
       "            <td>Spring</td>\n",
       "            <td>2.7</td>\n",
       "            <td>Yes</td>\n",
       "            <td>Cash</td>\n",
       "            <td>Free Shipping</td>\n",
       "            <td>Yes</td>\n",
       "            <td>Yes</td>\n",
       "            <td>31</td>\n",
       "            <td>PayPal</td>\n",
       "            <td>Annually</td>\n",
       "        </tr>\n",
       "    </tbody>\n",
       "</table>"
      ],
      "text/plain": [
       "+-------------+-----+--------+----------------+----------+-----------------------+---------------+------+-----------+--------+---------------+---------------------+----------------+---------------+------------------+-----------------+--------------------+--------------------------+------------------------+\n",
       "| Customer ID | Age | Gender | Item Purchased | Category | Purchase Amount (USD) |    Location   | Size |   Color   | Season | Review Rating | Subscription Status | Payment Method | Shipping Type | Discount Applied | Promo Code Used | Previous Purchases | Preferred Payment Method | Frequency of Purchases |\n",
       "+-------------+-----+--------+----------------+----------+-----------------------+---------------+------+-----------+--------+---------------+---------------------+----------------+---------------+------------------+-----------------+--------------------+--------------------------+------------------------+\n",
       "|      1      |  55 |  Male  |     Blouse     | Clothing |           53          |    Kentucky   |  L   |    Gray   | Winter |      3.1      |         Yes         |  Credit Card   |    Express    |       Yes        |       Yes       |         14         |          Venmo           |      Fortnightly       |\n",
       "|      2      |  19 |  Male  |    Sweater     | Clothing |           64          |     Maine     |  L   |   Maroon  | Winter |      3.1      |         Yes         | Bank Transfer  |    Express    |       Yes        |       Yes       |         2          |           Cash           |      Fortnightly       |\n",
       "|      3      |  50 |  Male  |     Jeans      | Clothing |           73          | Massachusetts |  S   |   Maroon  | Spring |      3.1      |         Yes         |      Cash      | Free Shipping |       Yes        |       Yes       |         23         |       Credit Card        |         Weekly         |\n",
       "|      4      |  21 |  Male  |    Sandals     | Footwear |           90          |  Rhode Island |  M   |   Maroon  | Spring |      3.5      |         Yes         |     PayPal     |  Next Day Air |       Yes        |       Yes       |         49         |          PayPal          |         Weekly         |\n",
       "|      5      |  45 |  Male  |     Blouse     | Clothing |           49          |     Oregon    |  M   | Turquoise | Spring |      2.7      |         Yes         |      Cash      | Free Shipping |       Yes        |       Yes       |         31         |          PayPal          |        Annually        |\n",
       "+-------------+-----+--------+----------------+----------+-----------------------+---------------+------+-----------+--------+---------------+---------------------+----------------+---------------+------------------+-----------------+--------------------+--------------------------+------------------------+"
      ]
     },
     "execution_count": 10,
     "metadata": {},
     "output_type": "execute_result"
    }
   ],
   "source": [
    "%%sql\n",
    "SELECT * FROM data_shopping_trends LIMIT 5"
   ]
  },
  {
   "cell_type": "code",
   "execution_count": 13,
   "metadata": {},
   "outputs": [
    {
     "data": {
      "text/html": [
       "<span style=\"None\">Running query in &#x27;duckdb:///../data/adidas.duckdb&#x27;</span>"
      ],
      "text/plain": [
       "Running query in 'duckdb:///../data/adidas.duckdb'"
      ]
     },
     "metadata": {},
     "output_type": "display_data"
    }
   ],
   "source": [
    "result_trends = %sql SELECT * FROM data_shopping_trends\n",
    "df_trends = result_trends.DataFrame()"
   ]
  },
  {
   "cell_type": "code",
   "execution_count": 14,
   "metadata": {},
   "outputs": [
    {
     "data": {
      "text/html": [
       "<div>\n",
       "<style scoped>\n",
       "    .dataframe tbody tr th:only-of-type {\n",
       "        vertical-align: middle;\n",
       "    }\n",
       "\n",
       "    .dataframe tbody tr th {\n",
       "        vertical-align: top;\n",
       "    }\n",
       "\n",
       "    .dataframe thead th {\n",
       "        text-align: right;\n",
       "    }\n",
       "</style>\n",
       "<table border=\"1\" class=\"dataframe\">\n",
       "  <thead>\n",
       "    <tr style=\"text-align: right;\">\n",
       "      <th></th>\n",
       "      <th>Customer ID</th>\n",
       "      <th>Age</th>\n",
       "      <th>Gender</th>\n",
       "      <th>Item Purchased</th>\n",
       "      <th>Category</th>\n",
       "      <th>Purchase Amount (USD)</th>\n",
       "      <th>Location</th>\n",
       "      <th>Size</th>\n",
       "      <th>Color</th>\n",
       "      <th>Season</th>\n",
       "      <th>Review Rating</th>\n",
       "      <th>Subscription Status</th>\n",
       "      <th>Payment Method</th>\n",
       "      <th>Shipping Type</th>\n",
       "      <th>Discount Applied</th>\n",
       "      <th>Promo Code Used</th>\n",
       "      <th>Previous Purchases</th>\n",
       "      <th>Preferred Payment Method</th>\n",
       "      <th>Frequency of Purchases</th>\n",
       "    </tr>\n",
       "  </thead>\n",
       "  <tbody>\n",
       "    <tr>\n",
       "      <th>0</th>\n",
       "      <td>1</td>\n",
       "      <td>55</td>\n",
       "      <td>Male</td>\n",
       "      <td>Blouse</td>\n",
       "      <td>Clothing</td>\n",
       "      <td>53</td>\n",
       "      <td>Kentucky</td>\n",
       "      <td>L</td>\n",
       "      <td>Gray</td>\n",
       "      <td>Winter</td>\n",
       "      <td>3.1</td>\n",
       "      <td>Yes</td>\n",
       "      <td>Credit Card</td>\n",
       "      <td>Express</td>\n",
       "      <td>Yes</td>\n",
       "      <td>Yes</td>\n",
       "      <td>14</td>\n",
       "      <td>Venmo</td>\n",
       "      <td>Fortnightly</td>\n",
       "    </tr>\n",
       "    <tr>\n",
       "      <th>1</th>\n",
       "      <td>2</td>\n",
       "      <td>19</td>\n",
       "      <td>Male</td>\n",
       "      <td>Sweater</td>\n",
       "      <td>Clothing</td>\n",
       "      <td>64</td>\n",
       "      <td>Maine</td>\n",
       "      <td>L</td>\n",
       "      <td>Maroon</td>\n",
       "      <td>Winter</td>\n",
       "      <td>3.1</td>\n",
       "      <td>Yes</td>\n",
       "      <td>Bank Transfer</td>\n",
       "      <td>Express</td>\n",
       "      <td>Yes</td>\n",
       "      <td>Yes</td>\n",
       "      <td>2</td>\n",
       "      <td>Cash</td>\n",
       "      <td>Fortnightly</td>\n",
       "    </tr>\n",
       "    <tr>\n",
       "      <th>2</th>\n",
       "      <td>3</td>\n",
       "      <td>50</td>\n",
       "      <td>Male</td>\n",
       "      <td>Jeans</td>\n",
       "      <td>Clothing</td>\n",
       "      <td>73</td>\n",
       "      <td>Massachusetts</td>\n",
       "      <td>S</td>\n",
       "      <td>Maroon</td>\n",
       "      <td>Spring</td>\n",
       "      <td>3.1</td>\n",
       "      <td>Yes</td>\n",
       "      <td>Cash</td>\n",
       "      <td>Free Shipping</td>\n",
       "      <td>Yes</td>\n",
       "      <td>Yes</td>\n",
       "      <td>23</td>\n",
       "      <td>Credit Card</td>\n",
       "      <td>Weekly</td>\n",
       "    </tr>\n",
       "    <tr>\n",
       "      <th>3</th>\n",
       "      <td>4</td>\n",
       "      <td>21</td>\n",
       "      <td>Male</td>\n",
       "      <td>Sandals</td>\n",
       "      <td>Footwear</td>\n",
       "      <td>90</td>\n",
       "      <td>Rhode Island</td>\n",
       "      <td>M</td>\n",
       "      <td>Maroon</td>\n",
       "      <td>Spring</td>\n",
       "      <td>3.5</td>\n",
       "      <td>Yes</td>\n",
       "      <td>PayPal</td>\n",
       "      <td>Next Day Air</td>\n",
       "      <td>Yes</td>\n",
       "      <td>Yes</td>\n",
       "      <td>49</td>\n",
       "      <td>PayPal</td>\n",
       "      <td>Weekly</td>\n",
       "    </tr>\n",
       "    <tr>\n",
       "      <th>4</th>\n",
       "      <td>5</td>\n",
       "      <td>45</td>\n",
       "      <td>Male</td>\n",
       "      <td>Blouse</td>\n",
       "      <td>Clothing</td>\n",
       "      <td>49</td>\n",
       "      <td>Oregon</td>\n",
       "      <td>M</td>\n",
       "      <td>Turquoise</td>\n",
       "      <td>Spring</td>\n",
       "      <td>2.7</td>\n",
       "      <td>Yes</td>\n",
       "      <td>Cash</td>\n",
       "      <td>Free Shipping</td>\n",
       "      <td>Yes</td>\n",
       "      <td>Yes</td>\n",
       "      <td>31</td>\n",
       "      <td>PayPal</td>\n",
       "      <td>Annually</td>\n",
       "    </tr>\n",
       "  </tbody>\n",
       "</table>\n",
       "</div>"
      ],
      "text/plain": [
       "   Customer ID  Age Gender Item Purchased  Category  Purchase Amount (USD)  \\\n",
       "0            1   55   Male         Blouse  Clothing                     53   \n",
       "1            2   19   Male        Sweater  Clothing                     64   \n",
       "2            3   50   Male          Jeans  Clothing                     73   \n",
       "3            4   21   Male        Sandals  Footwear                     90   \n",
       "4            5   45   Male         Blouse  Clothing                     49   \n",
       "\n",
       "        Location Size      Color  Season  Review Rating Subscription Status  \\\n",
       "0       Kentucky    L       Gray  Winter            3.1                 Yes   \n",
       "1          Maine    L     Maroon  Winter            3.1                 Yes   \n",
       "2  Massachusetts    S     Maroon  Spring            3.1                 Yes   \n",
       "3   Rhode Island    M     Maroon  Spring            3.5                 Yes   \n",
       "4         Oregon    M  Turquoise  Spring            2.7                 Yes   \n",
       "\n",
       "  Payment Method  Shipping Type Discount Applied Promo Code Used  \\\n",
       "0    Credit Card        Express              Yes             Yes   \n",
       "1  Bank Transfer        Express              Yes             Yes   \n",
       "2           Cash  Free Shipping              Yes             Yes   \n",
       "3         PayPal   Next Day Air              Yes             Yes   \n",
       "4           Cash  Free Shipping              Yes             Yes   \n",
       "\n",
       "   Previous Purchases Preferred Payment Method Frequency of Purchases  \n",
       "0                  14                    Venmo            Fortnightly  \n",
       "1                   2                     Cash            Fortnightly  \n",
       "2                  23              Credit Card                 Weekly  \n",
       "3                  49                   PayPal                 Weekly  \n",
       "4                  31                   PayPal               Annually  "
      ]
     },
     "execution_count": 14,
     "metadata": {},
     "output_type": "execute_result"
    }
   ],
   "source": [
    "df_trends.head()"
   ]
  },
  {
   "cell_type": "code",
   "execution_count": null,
   "metadata": {},
   "outputs": [],
   "source": []
  }
 ],
 "metadata": {
  "kernelspec": {
   "display_name": "Python 3 (ipykernel)",
   "language": "python",
   "name": "python3"
  },
  "language_info": {
   "codemirror_mode": {
    "name": "ipython",
    "version": 3
   },
   "file_extension": ".py",
   "mimetype": "text/x-python",
   "name": "python",
   "nbconvert_exporter": "python",
   "pygments_lexer": "ipython3",
   "version": "3.10.13"
  }
 },
 "nbformat": 4,
 "nbformat_minor": 2
}
