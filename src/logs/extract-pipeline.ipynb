{
 "cells": [
  {
   "cell_type": "markdown",
   "id": "9202711b",
   "metadata": {
    "tags": [
     "papermill-error-cell-tag"
    ]
   },
   "source": [
    "<span style=\"color:red; font-family:Helvetica Neue, Helvetica, Arial, sans-serif; font-size:2em;\">An Exception was encountered at '<a href=\"#papermill-error-cell\">In [3]</a>'.</span>"
   ]
  },
  {
   "cell_type": "code",
   "execution_count": 1,
   "id": "fd20f704",
   "metadata": {
    "execution": {
     "iopub.execute_input": "2023-10-10T23:27:17.223398Z",
     "iopub.status.busy": "2023-10-10T23:27:17.222902Z",
     "iopub.status.idle": "2023-10-10T23:27:17.235032Z",
     "shell.execute_reply": "2023-10-10T23:27:17.234227Z"
    },
    "lines_to_next_cell": 2,
    "papermill": {
     "duration": 0.01976,
     "end_time": "2023-10-10T23:27:17.237680",
     "exception": false,
     "start_time": "2023-10-10T23:27:17.217920",
     "status": "completed"
    },
    "tags": [
     "parameters"
    ]
   },
   "outputs": [],
   "source": [
    "# declare a list tasks whose products you want to use as inputs\n",
    "upstream = None"
   ]
  },
  {
   "cell_type": "code",
   "execution_count": 2,
   "id": "80438acc",
   "metadata": {
    "execution": {
     "iopub.execute_input": "2023-10-10T23:27:17.243268Z",
     "iopub.status.busy": "2023-10-10T23:27:17.242940Z",
     "iopub.status.idle": "2023-10-10T23:27:17.246706Z",
     "shell.execute_reply": "2023-10-10T23:27:17.245883Z"
    },
    "papermill": {
     "duration": 0.008593,
     "end_time": "2023-10-10T23:27:17.248958",
     "exception": false,
     "start_time": "2023-10-10T23:27:17.240365",
     "status": "completed"
    },
    "tags": [
     "injected-parameters"
    ]
   },
   "outputs": [],
   "source": [
    "# Parameters\n",
    "product = {\"nb\": \"/Users/macpro/Documents/GitHub/sql-etl-analytics/src/logs/extract-pipeline.ipynb\", \"data\": \"/Users/macpro/Documents/GitHub/sql-etl-analytics/data.duckdb\"}\n"
   ]
  },
  {
   "cell_type": "markdown",
   "id": "725acf13",
   "metadata": {
    "tags": [
     "papermill-error-cell-tag"
    ]
   },
   "source": [
    "<span id=\"papermill-error-cell\" style=\"color:red; font-family:Helvetica Neue, Helvetica, Arial, sans-serif; font-size:2em;\">Execution using papermill encountered an exception here and stopped:</span>"
   ]
  },
  {
   "cell_type": "code",
   "execution_count": 3,
   "id": "7d9e6ef1",
   "metadata": {
    "execution": {
     "iopub.execute_input": "2023-10-10T23:27:17.253390Z",
     "iopub.status.busy": "2023-10-10T23:27:17.253084Z",
     "iopub.status.idle": "2023-10-10T23:27:20.945085Z",
     "shell.execute_reply": "2023-10-10T23:27:20.944431Z"
    },
    "papermill": {
     "duration": 3.695441,
     "end_time": "2023-10-10T23:27:20.946067",
     "exception": true,
     "start_time": "2023-10-10T23:27:17.250626",
     "status": "failed"
    },
    "tags": []
   },
   "outputs": [
    {
     "name": "stdout",
     "output_type": "stream",
     "text": [
      "Start Date: 2020-01-01 00:00:00\n",
      "Last Date: 2021-12-31 00:00:00\n"
     ]
    },
    {
     "ename": "TypeError",
     "evalue": "data_cleaning_and_saving() takes 1 positional argument but 2 were given",
     "output_type": "error",
     "traceback": [
      "\u001b[0;31m---------------------------------------------------------------------------\u001b[0m",
      "\u001b[0;31mTypeError\u001b[0m                                 Traceback (most recent call last)",
      "Cell \u001b[0;32mIn[3], line 63\u001b[0m\n\u001b[1;32m     61\u001b[0m \u001b[38;5;66;03m# Save the cleaned data to DuckDB\u001b[39;00m\n\u001b[1;32m     62\u001b[0m save_to_duckdb(df, table_name, \u001b[38;5;124mf\u001b[39m\u001b[38;5;124m'\u001b[39m\u001b[38;5;132;01m{\u001b[39;00mdata_dir\u001b[38;5;132;01m}\u001b[39;00m\u001b[38;5;124m/adidas.duckdb\u001b[39m\u001b[38;5;124m'\u001b[39m)\n\u001b[0;32m---> 63\u001b[0m \u001b[43mdata_cleaning_and_saving\u001b[49m\u001b[43m(\u001b[49m\u001b[43mdf\u001b[49m\u001b[43m,\u001b[49m\u001b[43m \u001b[49m\u001b[43mtable_name\u001b[49m\u001b[43m)\u001b[49m\n",
      "\u001b[0;31mTypeError\u001b[0m: data_cleaning_and_saving() takes 1 positional argument but 2 were given"
     ]
    }
   ],
   "source": [
    "import os\n",
    "import kaggle\n",
    "import pandas as pd\n",
    "import duckdb\n",
    "\n",
    "\n",
    "# Check if 'data' folder exists, if not, create it\n",
    "# Set the path relative to the script\n",
    "def extract_data(dataset_id, data_dir):\n",
    "    \"\"\"Extract data from URL and return a dataframe\"\"\"\n",
    "    # Check if 'data' folder exists, if not, create it\n",
    "    if not os.path.exists(data_dir):\n",
    "        os.makedirs(data_dir)\n",
    "\n",
    "    # Download data from Kaggle and save it to 'data' folder\n",
    "    kaggle.api.authenticate()\n",
    "    kaggle.api.dataset_download_files(dataset_id, path=data_dir, unzip=True)\n",
    "\n",
    "    df = pd.read_excel(f'{data_dir}/Adidas US Sales Datasets.xlsx', sheet_name=\"Data Sales Adidas\", skiprows=range(4), usecols=\"B:N\")\n",
    "    return df\n",
    "\n",
    "def save_to_duckdb(df, table_name, db_path):\n",
    "    \"\"\"Save dataframe to duckdb\"\"\"\n",
    "    conn = duckdb.connect(db_path)\n",
    "    conn.register('df', df)\n",
    "    \n",
    "    # Check if table already exists, if not, create it\n",
    "    tables = conn.execute(\"SHOW TABLES\").fetchall()\n",
    "    if table_name not in [table[0] for table in tables]:\n",
    "        conn.execute(f\"CREATE TABLE {table_name} AS SELECT * FROM df\")\n",
    "    \n",
    "    conn.close()\n",
    "\n",
    "# Get range of data dates\n",
    "def data_cleaning_and_saving(df):\n",
    "    df_copy = df.copy()\n",
    "    # Get the start date (oldest date)\n",
    "    start_date = df_copy['Invoice Date'].min()\n",
    "\n",
    "    # Get the last date\n",
    "    last_date = df_copy['Invoice Date'].max()\n",
    "\n",
    "    print(\"Start Date:\", start_date)\n",
    "    print(\"Last Date:\", last_date)\n",
    "\n",
    "    df_copy['Invoice Date'] = pd.to_datetime(df['Invoice Date'])\n",
    "\n",
    "    return df_copy\n",
    "\n",
    "\n",
    "\n",
    "if __name__ == \"__main__\":\n",
    "\n",
    "    # Extract data from URL\n",
    "    kaggle_id = 'heemalichaudhari/adidas-sales-dataset'\n",
    "    data_dir = os.path.join('.', 'data')\n",
    "    df = extract_data(kaggle_id,data_dir)\n",
    "    clean_df = data_cleaning_and_saving(df)\n",
    "    \n",
    "    table_name = 'data_sales_adidas'\n",
    "    # Save the cleaned data to DuckDB\n",
    "    save_to_duckdb(df, table_name, f'{data_dir}/adidas.duckdb')\n",
    "    data_cleaning_and_saving(df, table_name)"
   ]
  }
 ],
 "metadata": {
  "jupytext": {
   "cell_metadata_filter": "tags,-all",
   "main_language": "python",
   "notebook_metadata_filter": "-all",
   "text_representation": {
    "extension": ".py",
    "format_name": "light"
   }
  },
  "kernelspec": {
   "display_name": "Python 3 (ipykernel)",
   "language": "python",
   "name": "python3"
  },
  "language_info": {
   "codemirror_mode": {
    "name": "ipython",
    "version": 3
   },
   "file_extension": ".py",
   "mimetype": "text/x-python",
   "name": "python",
   "nbconvert_exporter": "python",
   "pygments_lexer": "ipython3",
   "version": "3.10.13"
  },
  "papermill": {
   "duration": 7.09456,
   "end_time": "2023-10-10T23:27:23.571568",
   "exception": true,
   "input_path": "/var/folders/2t/nqb9hcfs07n91h4v5p34slp00000gn/T/tmpubdksh6b.ipynb",
   "output_path": "/Users/macpro/Documents/GitHub/sql-etl-analytics/src/logs/extract-pipeline.ipynb",
   "parameters": {
    "product": {
     "data": "/Users/macpro/Documents/GitHub/sql-etl-analytics/data.duckdb",
     "nb": "/Users/macpro/Documents/GitHub/sql-etl-analytics/src/logs/extract-pipeline.ipynb"
    }
   },
   "start_time": "2023-10-10T23:27:16.477008"
  }
 },
 "nbformat": 4,
 "nbformat_minor": 5
}