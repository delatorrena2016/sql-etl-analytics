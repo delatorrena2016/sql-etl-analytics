{
 "cells": [
  {
   "cell_type": "code",
   "execution_count": 1,
   "metadata": {},
   "outputs": [
    {
     "name": "stderr",
     "output_type": "stream",
     "text": [
      "ldf is not supported\n",
      "xls is not supported\n",
      "xlsx is not supported\n"
     ]
    },
    {
     "data": {
      "text/plain": [
       "['SQL Server',\n",
       " 'SQL Server Native Client 11.0',\n",
       " 'ODBC Driver 11 for SQL Server',\n",
       " 'CAMWorks SQLite3 ODBC Driver',\n",
       " 'Microsoft Access Driver (*.mdb, *.accdb)',\n",
       " 'Microsoft Excel Driver (*.xls, *.xlsx, *.xlsm, *.xlsb)',\n",
       " 'Microsoft Access Text Driver (*.txt, *.csv)',\n",
       " 'SQL Server Native Client RDA 11.0',\n",
       " 'ODBC Driver 17 for SQL Server']"
      ]
     },
     "execution_count": 1,
     "metadata": {},
     "output_type": "execute_result"
    }
   ],
   "source": [
    "import pyodbc\n",
    "import pandas as pd\n",
    "import mdfreader\n",
    "from asammdf import MDF\n",
    "from sqlalchemy import create_engine\n",
    "import urllib\n",
    "pyodbc.drivers()"
   ]
  },
  {
   "cell_type": "code",
   "execution_count": 2,
   "metadata": {},
   "outputs": [],
   "source": [
    "params = urllib.parse.quote_plus(\"DRIVER={SQL Server Native Client 11.0};\"\n",
    "                                 \"SERVER=DESKTOP-A6OGHBA\\SQLEXPRESS;\"\n",
    "                                 \"DATABASE=SPVGanaMasSQL;\"\n",
    "                                 \"Trusted_Connection=yes;\"\n",
    "                                 \"AttachDbFileName=C:\\\\Users\\\\Public\\\\Documents\\\\SPVGanaMasSQL.mdf\")\n",
    "engine = create_engine(\"mssql+pyodbc:///?odbc_connect={}\".format(params))"
   ]
  },
  {
   "cell_type": "code",
   "execution_count": 3,
   "metadata": {},
   "outputs": [
    {
     "data": {
      "text/html": [
       "Tip: You may define configurations in C:\\Users\\delat\\sql-etl-analytics\\pyproject.toml. Please review our <a href='https://jupysql.ploomber.io/en/latest/api/configuration.html#loading-from-pyproject-toml'>configuration guideline</a>."
      ],
      "text/plain": [
       "<IPython.core.display.HTML object>"
      ]
     },
     "metadata": {},
     "output_type": "display_data"
    }
   ],
   "source": [
    "%load_ext sql\n",
    "%sql engine"
   ]
  },
  {
   "cell_type": "code",
   "execution_count": 4,
   "metadata": {},
   "outputs": [
    {
     "ename": "PermissionError",
     "evalue": "[Errno 13] Permission denied: 'C:\\\\Users\\\\Public\\\\Documents\\\\SPVGanaMasSQL.MDF'",
     "output_type": "error",
     "traceback": [
      "\u001b[1;31m---------------------------------------------------------------------------\u001b[0m",
      "\u001b[1;31mPermissionError\u001b[0m                           Traceback (most recent call last)",
      "\u001b[1;32mc:\\Users\\delat\\sql-etl-analytics\\exp_grocerydb.ipynb Cell 4\u001b[0m line \u001b[0;36m1\n\u001b[1;32m----> <a href='vscode-notebook-cell:/c%3A/Users/delat/sql-etl-analytics/exp_grocerydb.ipynb#W3sZmlsZQ%3D%3D?line=0'>1</a>\u001b[0m yop \u001b[39m=\u001b[39m MDF(\u001b[39m\"\u001b[39;49m\u001b[39mC:\u001b[39;49m\u001b[39m\\\\\u001b[39;49;00m\u001b[39mUsers\u001b[39;49m\u001b[39m\\\\\u001b[39;49;00m\u001b[39mPublic\u001b[39;49m\u001b[39m\\\\\u001b[39;49;00m\u001b[39mDocuments\u001b[39;49m\u001b[39m\\\\\u001b[39;49;00m\u001b[39mSPVGanaMasSQL.MDF\u001b[39;49m\u001b[39m\"\u001b[39;49m)\n\u001b[0;32m      <a href='vscode-notebook-cell:/c%3A/Users/delat/sql-etl-analytics/exp_grocerydb.ipynb#W3sZmlsZQ%3D%3D?line=1'>2</a>\u001b[0m \u001b[39m#yop = mdfreader.Mdf(\"C:\\Program Files\\Microsoft SQL Server\\MSSQL16.SQLEXPRESS\\MSSQL\\DATA\\SPVGanaMasSQL.MDF\")\u001b[39;00m\n",
      "File \u001b[1;32mc:\\Users\\delat\\miniconda3\\envs\\hacktoberfest-env\\lib\\site-packages\\asammdf\\mdf.py:323\u001b[0m, in \u001b[0;36mMDF.__init__\u001b[1;34m(self, name, version, channels, **kwargs)\u001b[0m\n\u001b[0;32m    319\u001b[0m             output \u001b[39m=\u001b[39m archive\u001b[39m.\u001b[39mextract(fname, tmpdir)\n\u001b[0;32m    321\u001b[0m             move(output, name)\n\u001b[1;32m--> 323\u001b[0m     file_stream \u001b[39m=\u001b[39m \u001b[39mopen\u001b[39;49m(name, \u001b[39m\"\u001b[39;49m\u001b[39mrb\u001b[39;49m\u001b[39m\"\u001b[39;49m)\n\u001b[0;32m    324\u001b[0m     do_close \u001b[39m=\u001b[39m \u001b[39mTrue\u001b[39;00m\n\u001b[0;32m    326\u001b[0m file_stream\u001b[39m.\u001b[39mseek(\u001b[39m0\u001b[39m)\n",
      "\u001b[1;31mPermissionError\u001b[0m: [Errno 13] Permission denied: 'C:\\\\Users\\\\Public\\\\Documents\\\\SPVGanaMasSQL.MDF'"
     ]
    }
   ],
   "source": [
    "yop = MDF(\"C:\\\\Users\\\\Public\\\\Documents\\\\SPVGanaMasSQL.MDF\")\n",
    "#yop = mdfreader.Mdf(\"C:\\Program Files\\Microsoft SQL Server\\MSSQL16.SQLEXPRESS\\MSSQL\\DATA\\SPVGanaMasSQL.MDF\")\n"
   ]
  },
  {
   "cell_type": "code",
   "execution_count": null,
   "metadata": {},
   "outputs": [],
   "source": []
  }
 ],
 "metadata": {
  "kernelspec": {
   "display_name": "hacktoberfest-env",
   "language": "python",
   "name": "python3"
  },
  "language_info": {
   "codemirror_mode": {
    "name": "ipython",
    "version": 3
   },
   "file_extension": ".py",
   "mimetype": "text/x-python",
   "name": "python",
   "nbconvert_exporter": "python",
   "pygments_lexer": "ipython3",
   "version": "3.10.13"
  },
  "orig_nbformat": 4
 },
 "nbformat": 4,
 "nbformat_minor": 2
}
